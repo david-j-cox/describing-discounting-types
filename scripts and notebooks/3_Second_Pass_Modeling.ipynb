{
  "nbformat": 4,
  "nbformat_minor": 0,
  "metadata": {
    "colab": {
      "name": "3_Second_Pass_Modeling.ipynb",
      "provenance": [],
      "collapsed_sections": [],
      "machine_shape": "hm",
      "toc_visible": true
    },
    "kernelspec": {
      "name": "python3",
      "display_name": "Python 3"
    },
    "language_info": {
      "name": "python"
    },
    "accelerator": "TPU"
  },
  "cells": [
    {
      "cell_type": "markdown",
      "source": [
        "# Setup the environment"
      ],
      "metadata": {
        "id": "xcR4MfL0_7AU"
      }
    },
    {
      "cell_type": "code",
      "source": [
        "# Set working directory\n",
        "from google.colab import drive, files\n",
        "drive.mount('/content/gdrive')\n",
        "%cd './gdrive/My Drive/Multivariate Discounting/Scripts and Notebooks/'"
      ],
      "metadata": {
        "colab": {
          "base_uri": "https://localhost:8080/"
        },
        "id": "0umYu-wZk2D0",
        "outputId": "2f7e437b-6ab4-4d4e-8537-255559853766"
      },
      "execution_count": 1,
      "outputs": [
        {
          "output_type": "stream",
          "name": "stdout",
          "text": [
            "Mounted at /content/gdrive\n",
            "/content/gdrive/My Drive/Multivariate Discounting/Scripts and Notebooks\n"
          ]
        }
      ]
    },
    {
      "cell_type": "code",
      "source": [
        "# Connect TPU, if desired\n",
        "%tensorflow_version 2.x\n",
        "import tensorflow as tf\n",
        "print(\"Tensorflow version \" + tf.__version__)\n",
        "\n",
        "try:\n",
        "  tpu = tf.distribute.cluster_resolver.TPUClusterResolver()  # TPU detection\n",
        "  print('Running on TPU ', tpu.cluster_spec().as_dict()['worker'])\n",
        "except ValueError:\n",
        "  raise BaseException('ERROR: Not connected to a TPU runtime')\n",
        "\n",
        "tf.config.experimental_connect_to_cluster(tpu)\n",
        "tf.tpu.experimental.initialize_tpu_system(tpu)\n",
        "tpu_strategy = tf.distribute.experimental.TPUStrategy(tpu)"
      ],
      "metadata": {
        "id": "YKqMOgUhm00W",
        "colab": {
          "base_uri": "https://localhost:8080/"
        },
        "outputId": "3064d6f6-69b3-48f8-f3cf-eb9bbf4cc5d4"
      },
      "execution_count": 2,
      "outputs": [
        {
          "output_type": "stream",
          "name": "stdout",
          "text": [
            "Tensorflow version 2.8.0\n",
            "Running on TPU  ['10.102.111.218:8470']\n",
            "INFO:tensorflow:Deallocate tpu buffers before initializing tpu system.\n"
          ]
        },
        {
          "output_type": "stream",
          "name": "stderr",
          "text": [
            "INFO:tensorflow:Deallocate tpu buffers before initializing tpu system.\n"
          ]
        },
        {
          "output_type": "stream",
          "name": "stdout",
          "text": [
            "INFO:tensorflow:Initializing the TPU system: grpc://10.102.111.218:8470\n"
          ]
        },
        {
          "output_type": "stream",
          "name": "stderr",
          "text": [
            "INFO:tensorflow:Initializing the TPU system: grpc://10.102.111.218:8470\n"
          ]
        },
        {
          "output_type": "stream",
          "name": "stdout",
          "text": [
            "INFO:tensorflow:Finished initializing TPU system.\n"
          ]
        },
        {
          "output_type": "stream",
          "name": "stderr",
          "text": [
            "INFO:tensorflow:Finished initializing TPU system.\n",
            "WARNING:absl:`tf.distribute.experimental.TPUStrategy` is deprecated, please use  the non experimental symbol `tf.distribute.TPUStrategy` instead.\n"
          ]
        },
        {
          "output_type": "stream",
          "name": "stdout",
          "text": [
            "INFO:tensorflow:Found TPU system:\n"
          ]
        },
        {
          "output_type": "stream",
          "name": "stderr",
          "text": [
            "INFO:tensorflow:Found TPU system:\n"
          ]
        },
        {
          "output_type": "stream",
          "name": "stdout",
          "text": [
            "INFO:tensorflow:*** Num TPU Cores: 8\n"
          ]
        },
        {
          "output_type": "stream",
          "name": "stderr",
          "text": [
            "INFO:tensorflow:*** Num TPU Cores: 8\n"
          ]
        },
        {
          "output_type": "stream",
          "name": "stdout",
          "text": [
            "INFO:tensorflow:*** Num TPU Workers: 1\n"
          ]
        },
        {
          "output_type": "stream",
          "name": "stderr",
          "text": [
            "INFO:tensorflow:*** Num TPU Workers: 1\n"
          ]
        },
        {
          "output_type": "stream",
          "name": "stdout",
          "text": [
            "INFO:tensorflow:*** Num TPU Cores Per Worker: 8\n"
          ]
        },
        {
          "output_type": "stream",
          "name": "stderr",
          "text": [
            "INFO:tensorflow:*** Num TPU Cores Per Worker: 8\n"
          ]
        },
        {
          "output_type": "stream",
          "name": "stdout",
          "text": [
            "INFO:tensorflow:*** Available Device: _DeviceAttributes(/job:localhost/replica:0/task:0/device:CPU:0, CPU, 0, 0)\n"
          ]
        },
        {
          "output_type": "stream",
          "name": "stderr",
          "text": [
            "INFO:tensorflow:*** Available Device: _DeviceAttributes(/job:localhost/replica:0/task:0/device:CPU:0, CPU, 0, 0)\n"
          ]
        },
        {
          "output_type": "stream",
          "name": "stdout",
          "text": [
            "INFO:tensorflow:*** Available Device: _DeviceAttributes(/job:worker/replica:0/task:0/device:CPU:0, CPU, 0, 0)\n"
          ]
        },
        {
          "output_type": "stream",
          "name": "stderr",
          "text": [
            "INFO:tensorflow:*** Available Device: _DeviceAttributes(/job:worker/replica:0/task:0/device:CPU:0, CPU, 0, 0)\n"
          ]
        },
        {
          "output_type": "stream",
          "name": "stdout",
          "text": [
            "INFO:tensorflow:*** Available Device: _DeviceAttributes(/job:worker/replica:0/task:0/device:TPU:0, TPU, 0, 0)\n"
          ]
        },
        {
          "output_type": "stream",
          "name": "stderr",
          "text": [
            "INFO:tensorflow:*** Available Device: _DeviceAttributes(/job:worker/replica:0/task:0/device:TPU:0, TPU, 0, 0)\n"
          ]
        },
        {
          "output_type": "stream",
          "name": "stdout",
          "text": [
            "INFO:tensorflow:*** Available Device: _DeviceAttributes(/job:worker/replica:0/task:0/device:TPU:1, TPU, 0, 0)\n"
          ]
        },
        {
          "output_type": "stream",
          "name": "stderr",
          "text": [
            "INFO:tensorflow:*** Available Device: _DeviceAttributes(/job:worker/replica:0/task:0/device:TPU:1, TPU, 0, 0)\n"
          ]
        },
        {
          "output_type": "stream",
          "name": "stdout",
          "text": [
            "INFO:tensorflow:*** Available Device: _DeviceAttributes(/job:worker/replica:0/task:0/device:TPU:2, TPU, 0, 0)\n"
          ]
        },
        {
          "output_type": "stream",
          "name": "stderr",
          "text": [
            "INFO:tensorflow:*** Available Device: _DeviceAttributes(/job:worker/replica:0/task:0/device:TPU:2, TPU, 0, 0)\n"
          ]
        },
        {
          "output_type": "stream",
          "name": "stdout",
          "text": [
            "INFO:tensorflow:*** Available Device: _DeviceAttributes(/job:worker/replica:0/task:0/device:TPU:3, TPU, 0, 0)\n"
          ]
        },
        {
          "output_type": "stream",
          "name": "stderr",
          "text": [
            "INFO:tensorflow:*** Available Device: _DeviceAttributes(/job:worker/replica:0/task:0/device:TPU:3, TPU, 0, 0)\n"
          ]
        },
        {
          "output_type": "stream",
          "name": "stdout",
          "text": [
            "INFO:tensorflow:*** Available Device: _DeviceAttributes(/job:worker/replica:0/task:0/device:TPU:4, TPU, 0, 0)\n"
          ]
        },
        {
          "output_type": "stream",
          "name": "stderr",
          "text": [
            "INFO:tensorflow:*** Available Device: _DeviceAttributes(/job:worker/replica:0/task:0/device:TPU:4, TPU, 0, 0)\n"
          ]
        },
        {
          "output_type": "stream",
          "name": "stdout",
          "text": [
            "INFO:tensorflow:*** Available Device: _DeviceAttributes(/job:worker/replica:0/task:0/device:TPU:5, TPU, 0, 0)\n"
          ]
        },
        {
          "output_type": "stream",
          "name": "stderr",
          "text": [
            "INFO:tensorflow:*** Available Device: _DeviceAttributes(/job:worker/replica:0/task:0/device:TPU:5, TPU, 0, 0)\n"
          ]
        },
        {
          "output_type": "stream",
          "name": "stdout",
          "text": [
            "INFO:tensorflow:*** Available Device: _DeviceAttributes(/job:worker/replica:0/task:0/device:TPU:6, TPU, 0, 0)\n"
          ]
        },
        {
          "output_type": "stream",
          "name": "stderr",
          "text": [
            "INFO:tensorflow:*** Available Device: _DeviceAttributes(/job:worker/replica:0/task:0/device:TPU:6, TPU, 0, 0)\n"
          ]
        },
        {
          "output_type": "stream",
          "name": "stdout",
          "text": [
            "INFO:tensorflow:*** Available Device: _DeviceAttributes(/job:worker/replica:0/task:0/device:TPU:7, TPU, 0, 0)\n"
          ]
        },
        {
          "output_type": "stream",
          "name": "stderr",
          "text": [
            "INFO:tensorflow:*** Available Device: _DeviceAttributes(/job:worker/replica:0/task:0/device:TPU:7, TPU, 0, 0)\n"
          ]
        },
        {
          "output_type": "stream",
          "name": "stdout",
          "text": [
            "INFO:tensorflow:*** Available Device: _DeviceAttributes(/job:worker/replica:0/task:0/device:TPU_SYSTEM:0, TPU_SYSTEM, 0, 0)\n"
          ]
        },
        {
          "output_type": "stream",
          "name": "stderr",
          "text": [
            "INFO:tensorflow:*** Available Device: _DeviceAttributes(/job:worker/replica:0/task:0/device:TPU_SYSTEM:0, TPU_SYSTEM, 0, 0)\n"
          ]
        },
        {
          "output_type": "stream",
          "name": "stdout",
          "text": [
            "INFO:tensorflow:*** Available Device: _DeviceAttributes(/job:worker/replica:0/task:0/device:XLA_CPU:0, XLA_CPU, 0, 0)\n"
          ]
        },
        {
          "output_type": "stream",
          "name": "stderr",
          "text": [
            "INFO:tensorflow:*** Available Device: _DeviceAttributes(/job:worker/replica:0/task:0/device:XLA_CPU:0, XLA_CPU, 0, 0)\n"
          ]
        }
      ]
    },
    {
      "cell_type": "markdown",
      "source": [
        "# Import packages we'll need"
      ],
      "metadata": {
        "id": "HybMMxIH_-JI"
      }
    },
    {
      "cell_type": "code",
      "metadata": {
        "id": "nCJSs9pQ3MG8",
        "colab": {
          "base_uri": "https://localhost:8080/"
        },
        "outputId": "53c644e2-d834-467c-dfba-7f4806f553b9"
      },
      "source": [
        "# System\n",
        "import os\n",
        "import sys\n",
        "from IPython.display import clear_output\n",
        "import warnings\n",
        "warnings.filterwarnings(\"ignore\")\n",
        "\n",
        "# Data Manipulation\n",
        "import pandas as pd\n",
        "import numpy as np\n",
        "\n",
        "# Visualizations\n",
        "import seaborn as sns\n",
        "import matplotlib.pyplot as plt\n",
        "\n",
        "# Analytics\n",
        "import statsmodels.api as sm\n",
        "import statsmodels.formula.api as smf\n",
        "from math import log\n",
        "import scipy.stats as stats\n",
        "from sklearn import metrics\n",
        "from scipy.optimize import curve_fit\n",
        "from sklearn.model_selection import train_test_split\n",
        "from sklearn.ensemble import RandomForestRegressor as RFR\n",
        "from sklearn.ensemble import GradientBoostingRegressor as GBR\n",
        "!pip install shap\n",
        "import shap\n",
        "import random\n",
        "\n",
        "# Script preference\n",
        "pd.set_option(\"display.max_columns\", None)"
      ],
      "execution_count": 3,
      "outputs": [
        {
          "output_type": "stream",
          "name": "stdout",
          "text": [
            "Collecting shap\n",
            "  Downloading shap-0.40.0-cp37-cp37m-manylinux2010_x86_64.whl (564 kB)\n",
            "\u001b[?25l\r\u001b[K     |▋                               | 10 kB 27.9 MB/s eta 0:00:01\r\u001b[K     |█▏                              | 20 kB 10.9 MB/s eta 0:00:01\r\u001b[K     |█▊                              | 30 kB 8.3 MB/s eta 0:00:01\r\u001b[K     |██▎                             | 40 kB 8.0 MB/s eta 0:00:01\r\u001b[K     |███                             | 51 kB 4.3 MB/s eta 0:00:01\r\u001b[K     |███▌                            | 61 kB 5.1 MB/s eta 0:00:01\r\u001b[K     |████                            | 71 kB 5.4 MB/s eta 0:00:01\r\u001b[K     |████▋                           | 81 kB 5.6 MB/s eta 0:00:01\r\u001b[K     |█████▏                          | 92 kB 6.3 MB/s eta 0:00:01\r\u001b[K     |█████▉                          | 102 kB 5.0 MB/s eta 0:00:01\r\u001b[K     |██████▍                         | 112 kB 5.0 MB/s eta 0:00:01\r\u001b[K     |███████                         | 122 kB 5.0 MB/s eta 0:00:01\r\u001b[K     |███████▌                        | 133 kB 5.0 MB/s eta 0:00:01\r\u001b[K     |████████▏                       | 143 kB 5.0 MB/s eta 0:00:01\r\u001b[K     |████████▊                       | 153 kB 5.0 MB/s eta 0:00:01\r\u001b[K     |█████████▎                      | 163 kB 5.0 MB/s eta 0:00:01\r\u001b[K     |█████████▉                      | 174 kB 5.0 MB/s eta 0:00:01\r\u001b[K     |██████████▍                     | 184 kB 5.0 MB/s eta 0:00:01\r\u001b[K     |███████████                     | 194 kB 5.0 MB/s eta 0:00:01\r\u001b[K     |███████████▋                    | 204 kB 5.0 MB/s eta 0:00:01\r\u001b[K     |████████████▏                   | 215 kB 5.0 MB/s eta 0:00:01\r\u001b[K     |████████████▊                   | 225 kB 5.0 MB/s eta 0:00:01\r\u001b[K     |█████████████▍                  | 235 kB 5.0 MB/s eta 0:00:01\r\u001b[K     |██████████████                  | 245 kB 5.0 MB/s eta 0:00:01\r\u001b[K     |██████████████▌                 | 256 kB 5.0 MB/s eta 0:00:01\r\u001b[K     |███████████████                 | 266 kB 5.0 MB/s eta 0:00:01\r\u001b[K     |███████████████▋                | 276 kB 5.0 MB/s eta 0:00:01\r\u001b[K     |████████████████▎               | 286 kB 5.0 MB/s eta 0:00:01\r\u001b[K     |████████████████▉               | 296 kB 5.0 MB/s eta 0:00:01\r\u001b[K     |█████████████████▍              | 307 kB 5.0 MB/s eta 0:00:01\r\u001b[K     |██████████████████              | 317 kB 5.0 MB/s eta 0:00:01\r\u001b[K     |██████████████████▋             | 327 kB 5.0 MB/s eta 0:00:01\r\u001b[K     |███████████████████▏            | 337 kB 5.0 MB/s eta 0:00:01\r\u001b[K     |███████████████████▊            | 348 kB 5.0 MB/s eta 0:00:01\r\u001b[K     |████████████████████▎           | 358 kB 5.0 MB/s eta 0:00:01\r\u001b[K     |████████████████████▉           | 368 kB 5.0 MB/s eta 0:00:01\r\u001b[K     |█████████████████████▌          | 378 kB 5.0 MB/s eta 0:00:01\r\u001b[K     |██████████████████████          | 389 kB 5.0 MB/s eta 0:00:01\r\u001b[K     |██████████████████████▋         | 399 kB 5.0 MB/s eta 0:00:01\r\u001b[K     |███████████████████████▏        | 409 kB 5.0 MB/s eta 0:00:01\r\u001b[K     |███████████████████████▉        | 419 kB 5.0 MB/s eta 0:00:01\r\u001b[K     |████████████████████████▍       | 430 kB 5.0 MB/s eta 0:00:01\r\u001b[K     |█████████████████████████       | 440 kB 5.0 MB/s eta 0:00:01\r\u001b[K     |█████████████████████████▌      | 450 kB 5.0 MB/s eta 0:00:01\r\u001b[K     |██████████████████████████      | 460 kB 5.0 MB/s eta 0:00:01\r\u001b[K     |██████████████████████████▊     | 471 kB 5.0 MB/s eta 0:00:01\r\u001b[K     |███████████████████████████▎    | 481 kB 5.0 MB/s eta 0:00:01\r\u001b[K     |███████████████████████████▉    | 491 kB 5.0 MB/s eta 0:00:01\r\u001b[K     |████████████████████████████▍   | 501 kB 5.0 MB/s eta 0:00:01\r\u001b[K     |█████████████████████████████   | 512 kB 5.0 MB/s eta 0:00:01\r\u001b[K     |█████████████████████████████▋  | 522 kB 5.0 MB/s eta 0:00:01\r\u001b[K     |██████████████████████████████▏ | 532 kB 5.0 MB/s eta 0:00:01\r\u001b[K     |██████████████████████████████▊ | 542 kB 5.0 MB/s eta 0:00:01\r\u001b[K     |███████████████████████████████▎| 552 kB 5.0 MB/s eta 0:00:01\r\u001b[K     |████████████████████████████████| 563 kB 5.0 MB/s eta 0:00:01\r\u001b[K     |████████████████████████████████| 564 kB 5.0 MB/s \n",
            "\u001b[?25hRequirement already satisfied: numba in /usr/local/lib/python3.7/dist-packages (from shap) (0.51.2)\n",
            "Requirement already satisfied: tqdm>4.25.0 in /usr/local/lib/python3.7/dist-packages (from shap) (4.62.3)\n",
            "Requirement already satisfied: scikit-learn in /usr/local/lib/python3.7/dist-packages (from shap) (1.0.2)\n",
            "Requirement already satisfied: cloudpickle in /usr/local/lib/python3.7/dist-packages (from shap) (1.3.0)\n",
            "Requirement already satisfied: numpy in /usr/local/lib/python3.7/dist-packages (from shap) (1.21.5)\n",
            "Requirement already satisfied: scipy in /usr/local/lib/python3.7/dist-packages (from shap) (1.4.1)\n",
            "Requirement already satisfied: packaging>20.9 in /usr/local/lib/python3.7/dist-packages (from shap) (21.3)\n",
            "Collecting slicer==0.0.7\n",
            "  Downloading slicer-0.0.7-py3-none-any.whl (14 kB)\n",
            "Requirement already satisfied: pandas in /usr/local/lib/python3.7/dist-packages (from shap) (1.3.5)\n",
            "Requirement already satisfied: pyparsing!=3.0.5,>=2.0.2 in /usr/local/lib/python3.7/dist-packages (from packaging>20.9->shap) (3.0.7)\n",
            "Requirement already satisfied: setuptools in /usr/local/lib/python3.7/dist-packages (from numba->shap) (57.4.0)\n",
            "Requirement already satisfied: llvmlite<0.35,>=0.34.0.dev0 in /usr/local/lib/python3.7/dist-packages (from numba->shap) (0.34.0)\n",
            "Requirement already satisfied: pytz>=2017.3 in /usr/local/lib/python3.7/dist-packages (from pandas->shap) (2018.9)\n",
            "Requirement already satisfied: python-dateutil>=2.7.3 in /usr/local/lib/python3.7/dist-packages (from pandas->shap) (2.8.2)\n",
            "Requirement already satisfied: six>=1.5 in /usr/local/lib/python3.7/dist-packages (from python-dateutil>=2.7.3->pandas->shap) (1.15.0)\n",
            "Requirement already satisfied: joblib>=0.11 in /usr/local/lib/python3.7/dist-packages (from scikit-learn->shap) (1.1.0)\n",
            "Requirement already satisfied: threadpoolctl>=2.0.0 in /usr/local/lib/python3.7/dist-packages (from scikit-learn->shap) (3.1.0)\n",
            "Installing collected packages: slicer, shap\n",
            "Successfully installed shap-0.40.0 slicer-0.0.7\n"
          ]
        }
      ]
    },
    {
      "cell_type": "markdown",
      "source": [
        "# Make sure dataframe is ready for fitting"
      ],
      "metadata": {
        "id": "mUq7ybJgTSoP"
      }
    },
    {
      "cell_type": "code",
      "source": [
        "# Read in the data\n",
        "df = pd.read_csv('../Data/01_raw/data_long.csv').drop(['Unnamed: 0'], axis=1)\n",
        "\n",
        "#%% One hot encode categorical variables for predictions\n",
        "encode_df = pd.DataFrame(df['indiff_point'])\n",
        "encode_df.columns = ['indiff_point']\n",
        "encode_df = pd.concat([encode_df, pd.get_dummies(df['Group'], prefix='Group')], axis=1)\n",
        "encode_df = pd.concat([encode_df, pd.get_dummies(df['Commodity'], prefix='Commodity')], axis=1)\n",
        "encode_df = pd.concat([encode_df, pd.get_dummies(df['Gain_Loss'], prefix='Gain_Loss')], axis=1)\n",
        "encode_df = pd.concat([encode_df, pd.get_dummies(df['Delay_Prob'], prefix='Delay_Prob')], axis=1)\n",
        "encode_df['Amount'] = df['Amount']\n",
        "encode_df['IV'] = df['IV']\n",
        "encode_df['pid'] = df['pid']\n",
        "encode_df = encode_df.dropna()\n",
        "encode_df = encode_df.reset_index(drop=True)\n",
        "\n",
        "encode_df = encode_df.drop(['Group_Control', 'Gain_Loss_Loss', 'Delay_Prob_Probability'], axis=1)\n",
        "\n",
        "encode_df[::500]"
      ],
      "metadata": {
        "id": "xEzqnPL0TWrw",
        "colab": {
          "base_uri": "https://localhost:8080/",
          "height": 425
        },
        "outputId": "ee53de8a-74ef-480f-e67d-2d044da5ab86"
      },
      "execution_count": 4,
      "outputs": [
        {
          "output_type": "execute_result",
          "data": {
            "text/html": [
              "\n",
              "  <div id=\"df-84f04663-6a24-4ef1-9538-8e9c29181c00\">\n",
              "    <div class=\"colab-df-container\">\n",
              "      <div>\n",
              "<style scoped>\n",
              "    .dataframe tbody tr th:only-of-type {\n",
              "        vertical-align: middle;\n",
              "    }\n",
              "\n",
              "    .dataframe tbody tr th {\n",
              "        vertical-align: top;\n",
              "    }\n",
              "\n",
              "    .dataframe thead th {\n",
              "        text-align: right;\n",
              "    }\n",
              "</style>\n",
              "<table border=\"1\" class=\"dataframe\">\n",
              "  <thead>\n",
              "    <tr style=\"text-align: right;\">\n",
              "      <th></th>\n",
              "      <th>indiff_point</th>\n",
              "      <th>Group_Cocaine</th>\n",
              "      <th>Commodity_Cocaine</th>\n",
              "      <th>Commodity_Health</th>\n",
              "      <th>Commodity_Money</th>\n",
              "      <th>Gain_Loss_Gains</th>\n",
              "      <th>Delay_Prob_Delay</th>\n",
              "      <th>Amount</th>\n",
              "      <th>IV</th>\n",
              "      <th>pid</th>\n",
              "    </tr>\n",
              "  </thead>\n",
              "  <tbody>\n",
              "    <tr>\n",
              "      <th>0</th>\n",
              "      <td>0.75</td>\n",
              "      <td>1</td>\n",
              "      <td>1</td>\n",
              "      <td>0</td>\n",
              "      <td>0</td>\n",
              "      <td>1</td>\n",
              "      <td>1</td>\n",
              "      <td>100</td>\n",
              "      <td>1.000</td>\n",
              "      <td>GM33</td>\n",
              "    </tr>\n",
              "    <tr>\n",
              "      <th>500</th>\n",
              "      <td>0.98</td>\n",
              "      <td>1</td>\n",
              "      <td>0</td>\n",
              "      <td>0</td>\n",
              "      <td>1</td>\n",
              "      <td>0</td>\n",
              "      <td>1</td>\n",
              "      <td>10</td>\n",
              "      <td>182.625</td>\n",
              "      <td>DP39</td>\n",
              "    </tr>\n",
              "    <tr>\n",
              "      <th>1000</th>\n",
              "      <td>0.03</td>\n",
              "      <td>1</td>\n",
              "      <td>0</td>\n",
              "      <td>1</td>\n",
              "      <td>0</td>\n",
              "      <td>1</td>\n",
              "      <td>1</td>\n",
              "      <td>100</td>\n",
              "      <td>9125.000</td>\n",
              "      <td>SR51</td>\n",
              "    </tr>\n",
              "    <tr>\n",
              "      <th>1500</th>\n",
              "      <td>0.68</td>\n",
              "      <td>1</td>\n",
              "      <td>0</td>\n",
              "      <td>0</td>\n",
              "      <td>1</td>\n",
              "      <td>1</td>\n",
              "      <td>0</td>\n",
              "      <td>10</td>\n",
              "      <td>0.333</td>\n",
              "      <td>RJ58</td>\n",
              "    </tr>\n",
              "    <tr>\n",
              "      <th>2000</th>\n",
              "      <td>0.48</td>\n",
              "      <td>1</td>\n",
              "      <td>0</td>\n",
              "      <td>0</td>\n",
              "      <td>1</td>\n",
              "      <td>1</td>\n",
              "      <td>1</td>\n",
              "      <td>100</td>\n",
              "      <td>1825.000</td>\n",
              "      <td>RR70</td>\n",
              "    </tr>\n",
              "    <tr>\n",
              "      <th>2500</th>\n",
              "      <td>0.98</td>\n",
              "      <td>1</td>\n",
              "      <td>0</td>\n",
              "      <td>0</td>\n",
              "      <td>1</td>\n",
              "      <td>0</td>\n",
              "      <td>0</td>\n",
              "      <td>10</td>\n",
              "      <td>0.111</td>\n",
              "      <td>CB84</td>\n",
              "    </tr>\n",
              "    <tr>\n",
              "      <th>3000</th>\n",
              "      <td>0.00</td>\n",
              "      <td>1</td>\n",
              "      <td>0</td>\n",
              "      <td>1</td>\n",
              "      <td>0</td>\n",
              "      <td>0</td>\n",
              "      <td>1</td>\n",
              "      <td>1000</td>\n",
              "      <td>365.000</td>\n",
              "      <td>KW106</td>\n",
              "    </tr>\n",
              "    <tr>\n",
              "      <th>3500</th>\n",
              "      <td>0.76</td>\n",
              "      <td>0</td>\n",
              "      <td>0</td>\n",
              "      <td>0</td>\n",
              "      <td>1</td>\n",
              "      <td>1</td>\n",
              "      <td>0</td>\n",
              "      <td>100</td>\n",
              "      <td>1.000</td>\n",
              "      <td>CB15</td>\n",
              "    </tr>\n",
              "    <tr>\n",
              "      <th>4000</th>\n",
              "      <td>0.60</td>\n",
              "      <td>0</td>\n",
              "      <td>0</td>\n",
              "      <td>0</td>\n",
              "      <td>1</td>\n",
              "      <td>1</td>\n",
              "      <td>1</td>\n",
              "      <td>100</td>\n",
              "      <td>365.000</td>\n",
              "      <td>KC24</td>\n",
              "    </tr>\n",
              "    <tr>\n",
              "      <th>4500</th>\n",
              "      <td>0.32</td>\n",
              "      <td>0</td>\n",
              "      <td>0</td>\n",
              "      <td>0</td>\n",
              "      <td>1</td>\n",
              "      <td>1</td>\n",
              "      <td>0</td>\n",
              "      <td>100</td>\n",
              "      <td>3.000</td>\n",
              "      <td>RT29</td>\n",
              "    </tr>\n",
              "    <tr>\n",
              "      <th>5000</th>\n",
              "      <td>0.70</td>\n",
              "      <td>0</td>\n",
              "      <td>0</td>\n",
              "      <td>0</td>\n",
              "      <td>1</td>\n",
              "      <td>1</td>\n",
              "      <td>1</td>\n",
              "      <td>100</td>\n",
              "      <td>1825.000</td>\n",
              "      <td>JA87</td>\n",
              "    </tr>\n",
              "    <tr>\n",
              "      <th>5500</th>\n",
              "      <td>0.02</td>\n",
              "      <td>0</td>\n",
              "      <td>0</td>\n",
              "      <td>0</td>\n",
              "      <td>1</td>\n",
              "      <td>1</td>\n",
              "      <td>0</td>\n",
              "      <td>100</td>\n",
              "      <td>9.000</td>\n",
              "      <td>JF95</td>\n",
              "    </tr>\n",
              "  </tbody>\n",
              "</table>\n",
              "</div>\n",
              "      <button class=\"colab-df-convert\" onclick=\"convertToInteractive('df-84f04663-6a24-4ef1-9538-8e9c29181c00')\"\n",
              "              title=\"Convert this dataframe to an interactive table.\"\n",
              "              style=\"display:none;\">\n",
              "        \n",
              "  <svg xmlns=\"http://www.w3.org/2000/svg\" height=\"24px\"viewBox=\"0 0 24 24\"\n",
              "       width=\"24px\">\n",
              "    <path d=\"M0 0h24v24H0V0z\" fill=\"none\"/>\n",
              "    <path d=\"M18.56 5.44l.94 2.06.94-2.06 2.06-.94-2.06-.94-.94-2.06-.94 2.06-2.06.94zm-11 1L8.5 8.5l.94-2.06 2.06-.94-2.06-.94L8.5 2.5l-.94 2.06-2.06.94zm10 10l.94 2.06.94-2.06 2.06-.94-2.06-.94-.94-2.06-.94 2.06-2.06.94z\"/><path d=\"M17.41 7.96l-1.37-1.37c-.4-.4-.92-.59-1.43-.59-.52 0-1.04.2-1.43.59L10.3 9.45l-7.72 7.72c-.78.78-.78 2.05 0 2.83L4 21.41c.39.39.9.59 1.41.59.51 0 1.02-.2 1.41-.59l7.78-7.78 2.81-2.81c.8-.78.8-2.07 0-2.86zM5.41 20L4 18.59l7.72-7.72 1.47 1.35L5.41 20z\"/>\n",
              "  </svg>\n",
              "      </button>\n",
              "      \n",
              "  <style>\n",
              "    .colab-df-container {\n",
              "      display:flex;\n",
              "      flex-wrap:wrap;\n",
              "      gap: 12px;\n",
              "    }\n",
              "\n",
              "    .colab-df-convert {\n",
              "      background-color: #E8F0FE;\n",
              "      border: none;\n",
              "      border-radius: 50%;\n",
              "      cursor: pointer;\n",
              "      display: none;\n",
              "      fill: #1967D2;\n",
              "      height: 32px;\n",
              "      padding: 0 0 0 0;\n",
              "      width: 32px;\n",
              "    }\n",
              "\n",
              "    .colab-df-convert:hover {\n",
              "      background-color: #E2EBFA;\n",
              "      box-shadow: 0px 1px 2px rgba(60, 64, 67, 0.3), 0px 1px 3px 1px rgba(60, 64, 67, 0.15);\n",
              "      fill: #174EA6;\n",
              "    }\n",
              "\n",
              "    [theme=dark] .colab-df-convert {\n",
              "      background-color: #3B4455;\n",
              "      fill: #D2E3FC;\n",
              "    }\n",
              "\n",
              "    [theme=dark] .colab-df-convert:hover {\n",
              "      background-color: #434B5C;\n",
              "      box-shadow: 0px 1px 3px 1px rgba(0, 0, 0, 0.15);\n",
              "      filter: drop-shadow(0px 1px 2px rgba(0, 0, 0, 0.3));\n",
              "      fill: #FFFFFF;\n",
              "    }\n",
              "  </style>\n",
              "\n",
              "      <script>\n",
              "        const buttonEl =\n",
              "          document.querySelector('#df-84f04663-6a24-4ef1-9538-8e9c29181c00 button.colab-df-convert');\n",
              "        buttonEl.style.display =\n",
              "          google.colab.kernel.accessAllowed ? 'block' : 'none';\n",
              "\n",
              "        async function convertToInteractive(key) {\n",
              "          const element = document.querySelector('#df-84f04663-6a24-4ef1-9538-8e9c29181c00');\n",
              "          const dataTable =\n",
              "            await google.colab.kernel.invokeFunction('convertToInteractive',\n",
              "                                                     [key], {});\n",
              "          if (!dataTable) return;\n",
              "\n",
              "          const docLinkHtml = 'Like what you see? Visit the ' +\n",
              "            '<a target=\"_blank\" href=https://colab.research.google.com/notebooks/data_table.ipynb>data table notebook</a>'\n",
              "            + ' to learn more about interactive tables.';\n",
              "          element.innerHTML = '';\n",
              "          dataTable['output_type'] = 'display_data';\n",
              "          await google.colab.output.renderOutput(dataTable, element);\n",
              "          const docLink = document.createElement('div');\n",
              "          docLink.innerHTML = docLinkHtml;\n",
              "          element.appendChild(docLink);\n",
              "        }\n",
              "      </script>\n",
              "    </div>\n",
              "  </div>\n",
              "  "
            ],
            "text/plain": [
              "      indiff_point  Group_Cocaine  Commodity_Cocaine  Commodity_Health  \\\n",
              "0             0.75              1                  1                 0   \n",
              "500           0.98              1                  0                 0   \n",
              "1000          0.03              1                  0                 1   \n",
              "1500          0.68              1                  0                 0   \n",
              "2000          0.48              1                  0                 0   \n",
              "2500          0.98              1                  0                 0   \n",
              "3000          0.00              1                  0                 1   \n",
              "3500          0.76              0                  0                 0   \n",
              "4000          0.60              0                  0                 0   \n",
              "4500          0.32              0                  0                 0   \n",
              "5000          0.70              0                  0                 0   \n",
              "5500          0.02              0                  0                 0   \n",
              "\n",
              "      Commodity_Money  Gain_Loss_Gains  Delay_Prob_Delay  Amount        IV  \\\n",
              "0                   0                1                 1     100     1.000   \n",
              "500                 1                0                 1      10   182.625   \n",
              "1000                0                1                 1     100  9125.000   \n",
              "1500                1                1                 0      10     0.333   \n",
              "2000                1                1                 1     100  1825.000   \n",
              "2500                1                0                 0      10     0.111   \n",
              "3000                0                0                 1    1000   365.000   \n",
              "3500                1                1                 0     100     1.000   \n",
              "4000                1                1                 1     100   365.000   \n",
              "4500                1                1                 0     100     3.000   \n",
              "5000                1                1                 1     100  1825.000   \n",
              "5500                1                1                 0     100     9.000   \n",
              "\n",
              "        pid  \n",
              "0      GM33  \n",
              "500    DP39  \n",
              "1000   SR51  \n",
              "1500   RJ58  \n",
              "2000   RR70  \n",
              "2500   CB84  \n",
              "3000  KW106  \n",
              "3500   CB15  \n",
              "4000   KC24  \n",
              "4500   RT29  \n",
              "5000   JA87  \n",
              "5500   JF95  "
            ]
          },
          "metadata": {},
          "execution_count": 4
        }
      ]
    },
    {
      "cell_type": "markdown",
      "source": [
        "# Functions"
      ],
      "metadata": {
        "id": "k6sevcoOaf9Q"
      }
    },
    {
      "cell_type": "code",
      "source": [
        "def calc_aic(n, loss, num_params):\n",
        "  aic = n * log(loss) + 2 * num_params\n",
        "  return aic\n",
        "\n",
        "def calc_bic(n, loss, num_params):\n",
        "  bic = n * log(loss) + num_params * log(n)\n",
        "  return bic\n",
        "\n",
        "def plot_pred(predictors, observed_data, title, save_name=None, \n",
        "              rand_state=5687463, model=None, plot_cond=False):\n",
        "  # Fit the model\n",
        "  if model=='RF':\n",
        "      regr = RFR(max_depth=5, random_state=rand_state)\n",
        "  elif model=='LR':\n",
        "      regr = LinearRegression()\n",
        "  elif model=='GBR':\n",
        "      regr = GradientBoostingRegressor(random_state=rand_state)\n",
        "  elif model=='ABR':\n",
        "      regr = AdaBoostRegressor(random_state=rand_state)\n",
        "  regr.fit(predictors, observed_data)\n",
        "  try:\n",
        "    num_params = len(regr.coef_) + 1\n",
        "  except:\n",
        "    num_params = np.nan\n",
        "  r2 = regr.score(predictors, observed_data)\n",
        "  predictions = regr.predict(predictors)\n",
        "  mse = metrics.mean_squared_error(observed_data, predictions)\n",
        "  rmse = np.sqrt(mse)\n",
        "  mae = metrics.mean_absolute_error(observed_data, predictions)\n",
        "  try:\n",
        "    aic = calc_aic(n=len(observed_data), loss=mse, num_params=num_params)\n",
        "  except:\n",
        "    aic = np.nan\n",
        "  try:\n",
        "    bic = calc_bic(n=len(observed_data), loss=mse, num_params=num_params)\n",
        "  except:\n",
        "    bic= np.nan\n",
        "  \n",
        "  # Plot if desired\n",
        "  if plot_cond==True:\n",
        "    # Plot it\n",
        "    fig, ax = plt.subplots(figsize=(10, 10))\n",
        "    sns.regplot(x=observed_data, y=regr.predict(predictors), color='k', )\n",
        "    plt.title(title, fontsize=36, pad=16)\n",
        "    ax.text(0.7, 0.08, r\"$r^2=$\"+f'{round(r2, 2)}', fontsize=24)\n",
        "    plt.xticks(fontsize=20)\n",
        "    plt.xlim(0, 1)\n",
        "    plt.yticks(fontsize=20)\n",
        "    plt.ylim(0, 1)\n",
        "    plt.ylabel(\"Predicted Indifference Proportion\", fontsize=30, labelpad=20)\n",
        "    plt.xlabel(\"Observed Indifference Proportion\", fontsize=30, labelpad=20)\n",
        "    plt.savefig(f'../Figures/{save_name}.png', bbox_inches=\"tight\")\n",
        "    plt.show()\n",
        "\n",
        "  return r2, mse, rmse, mae, aic, bic\n",
        "\n",
        "def box_swarm(df, width=15, save_name=None, xlim=None, ylim=None):\n",
        "  fig, ax = plt.subplots(figsize=(width, 12))\n",
        "  sns.boxplot(x='variable', y='value', data=df, hue='group', dodge=True, palette='colorblind', \n",
        "              showmeans=True, meanprops={\"marker\":\"*\", \n",
        "                                         \"markerfacecolor\":\"white\", \n",
        "                                         \"markeredgecolor\":\"black\",\n",
        "                                         \"markersize\":\"18\"})\n",
        "  sns.swarmplot(x='variable', y='value', data=df, hue='group', dodge=True, alpha=0.5, color='k')\n",
        "  plt.ylabel('Metric', fontsize=30, labelpad=16)\n",
        "  plt.yticks(fontsize=16)\n",
        "  plt.ylim(ylim)\n",
        "  plt.xticks(fontsize=16)\n",
        "  plt.xlim(xlim)\n",
        "  plt.xlabel('', fontsize=20)\n",
        "  plt.savefig(f'../Figures/{save_name}.png', bbox_inches='tight')\n",
        "  plt.show()"
      ],
      "metadata": {
        "id": "0sp6z1zVaiP1"
      },
      "execution_count": 31,
      "outputs": []
    },
    {
      "cell_type": "markdown",
      "source": [
        "# Random Forest\n",
        "## Hyperparameters to tune:\n",
        "\n",
        "*   n_estimators: Number of trees in the forest\n",
        "*   max_depth: The maximum depth of each tree. \n",
        "\n"
      ],
      "metadata": {
        "id": "CJK447MabwP4"
      }
    },
    {
      "cell_type": "markdown",
      "source": [
        "## Modeling"
      ],
      "metadata": {
        "id": "BxDu-_xvSWrF"
      }
    },
    {
      "cell_type": "code",
      "source": [
        "# Grid search using RF\n",
        "preds = list(encode_df)[1:-1] # Use all but participant id b/c we're fitting at the PID level\n",
        "fit = []\n",
        "vac = []\n",
        "mse = []\n",
        "mae = []\n",
        "rmse = []\n",
        "group = []\n",
        "depth = []\n",
        "ests = []\n",
        "\n",
        "for i in range(0, 10):\n",
        "  rand_state = int(round(random.random()*10000, 0))\n",
        "  for n_est in [10, 50, 100, 250]:\n",
        "    for max_depth in [10, 50, 100]:\n",
        "      for p in encode_df['pid'].unique():\n",
        "        # Isolate participant data\n",
        "        temp_df = encode_df[encode_df['pid']==p].dropna()\n",
        "        predictors = temp_df[preds].astype(float)\n",
        "        observed_data = temp_df['indiff_point']\n",
        "        temp_df = temp_df.reset_index(drop=True)\n",
        "        # Fit RF regressor\n",
        "        regr = RFR(n_estimators=n_est, max_depth=max_depth)\n",
        "        regr.fit(predictors, observed_data)\n",
        "        predictions = regr.predict(predictors)\n",
        "        # Save loss metrics for this fit\n",
        "        fit.append('RF')\n",
        "        vac.append(regr.score(predictors, observed_data))\n",
        "        mse.append(metrics.mean_squared_error(observed_data, predictions))\n",
        "        rmse.append(np.sqrt(metrics.mean_squared_error(observed_data, predictions)))\n",
        "        mae.append(metrics.mean_absolute_error(observed_data, predictions))\n",
        "        if temp_df['Group_Cocaine'][0]==1:\n",
        "          group.append('cocaine')\n",
        "        else:\n",
        "          group.append('control')\n",
        "        depth.append(max_depth)\n",
        "        ests.append(n_est)\n",
        "        clear_output()\n",
        "        print(f'Fitting model:\\nIter: {i+1} of 10\\nn_est: {n_est}\\ndepth: {max_depth}\\nPID: {p}')\n",
        "\n",
        "fit_df_rf = pd.DataFrame({'fit':fit, 'vac':vac, 'mse':mse, 'rmse':rmse, \n",
        "                       'mae':mae, 'depth':depth, 'ests':ests, 'group':group})\n",
        "fit_df_rf.to_csv(f'../Data/03_hyperparameter_tuning/param_tuning_RF.csv')"
      ],
      "metadata": {
        "colab": {
          "base_uri": "https://localhost:8080/"
        },
        "id": "JuA1G7aax_Zc",
        "outputId": "9a94f458-5a6b-4853-af3f-feee0111cfc2"
      },
      "execution_count": 6,
      "outputs": [
        {
          "output_type": "stream",
          "name": "stdout",
          "text": [
            "Fitting model:\n",
            "Iter: 10 of 10\n",
            "n_est: 250\n",
            "depth: 100\n",
            "PID: MG109\n"
          ]
        }
      ]
    },
    {
      "cell_type": "code",
      "source": [
        "# Identify optimal hyperparams, on average\n",
        "testing = fit_df_rf[fit_df_rf['vac']==fit_df_rf['vac'].max()]\n",
        "testing = testing.append(fit_df_rf[fit_df_rf['mse']==fit_df_rf['mse'].min()])\n",
        "testing = testing.append(fit_df_rf[fit_df_rf['rmse']==fit_df_rf['rmse'].min()])\n",
        "testing = testing.append(fit_df_rf[fit_df_rf['mae']==fit_df_rf['mae'].min()])\n",
        "testing = testing.drop_duplicates()\n",
        "print(testing.sort_values(by=['mae'], ascending=True))\n",
        "testing.describe()"
      ],
      "metadata": {
        "colab": {
          "base_uri": "https://localhost:8080/",
          "height": 768
        },
        "id": "mca6eFINPk8R",
        "outputId": "1712423b-c4da-4d23-84c9-c6e8d56cc604"
      },
      "execution_count": 10,
      "outputs": [
        {
          "output_type": "stream",
          "name": "stdout",
          "text": [
            "     fit  vac           mse          rmse           mae  depth  ests    group\n",
            "12    RF  1.0  1.110810e-32  1.053950e-16  5.776629e-17     10    10  cocaine\n",
            "5088  RF  1.0  1.137704e-32  1.066632e-16  5.925320e-17     10    10  cocaine\n",
            "1704  RF  1.0  1.198130e-32  1.094591e-16  6.341653e-17     10    10  cocaine\n",
            "5135  RF  1.0  1.479626e-32  1.216399e-16  6.748074e-17     50    10  cocaine\n",
            "1751  RF  1.0  1.479746e-32  1.216448e-16  6.782769e-17     50    10  cocaine\n",
            "4618  RF  1.0  1.479746e-32  1.216448e-16  6.782769e-17    100    10  cocaine\n",
            "623   RF  1.0  1.479851e-32  1.216491e-16  6.808790e-17     50    10  cocaine\n",
            "5182  RF  1.0  1.479867e-32  1.216498e-16  6.817463e-17    100    10  cocaine\n",
            "3443  RF  1.0  1.479867e-32  1.216498e-16  6.817463e-17     50    10  cocaine\n",
            "3960  RF  1.0  1.479867e-32  1.216498e-16  6.817463e-17     10    10  cocaine\n",
            "4054  RF  1.0  1.479987e-32  1.216547e-16  6.852158e-17    100    10  cocaine\n",
            "670   RF  1.0  1.480589e-32  1.216794e-16  6.886852e-17    100    10  cocaine\n",
            "1140  RF  1.0  1.480589e-32  1.216794e-16  6.886852e-17     10    10  cocaine\n",
            "1798  RF  1.0  1.480709e-32  1.216844e-16  6.921547e-17    100    10  cocaine\n",
            "2879  RF  1.0  1.481055e-32  1.216986e-16  6.947568e-17     50    10  cocaine\n",
            "106   RF  1.0  1.481070e-32  1.216992e-16  6.956241e-17    100    10  cocaine\n",
            "576   RF  1.0  1.498318e-32  1.224058e-16  7.080150e-17     10    10  cocaine\n",
            "2315  RF  1.0  1.515204e-32  1.230936e-16  7.169364e-17     50    10  cocaine\n",
            "3490  RF  1.0  1.541376e-32  1.241522e-16  7.337880e-17    100    10  cocaine\n",
            "4571  RF  1.0  1.542218e-32  1.241861e-16  7.441964e-17     50    10  cocaine\n",
            "5229  RF  1.0  2.589485e-31  5.088698e-16  3.060052e-16     10    50  cocaine\n",
            "3584  RF  1.0  2.589485e-31  5.088698e-16  3.063522e-16     50    50  cocaine\n",
            "1939  RF  1.0  2.589629e-31  5.088840e-16  3.066991e-16    100    50  cocaine\n",
            "1328  RF  1.0  2.589629e-31  5.088840e-16  3.066991e-16     50    50  cocaine\n",
            "1281  RF  1.0  2.589629e-31  5.088840e-16  3.066991e-16     10    50  cocaine\n"
          ]
        },
        {
          "output_type": "execute_result",
          "data": {
            "text/html": [
              "\n",
              "  <div id=\"df-7632502e-132f-454a-bd11-48546d776603\">\n",
              "    <div class=\"colab-df-container\">\n",
              "      <div>\n",
              "<style scoped>\n",
              "    .dataframe tbody tr th:only-of-type {\n",
              "        vertical-align: middle;\n",
              "    }\n",
              "\n",
              "    .dataframe tbody tr th {\n",
              "        vertical-align: top;\n",
              "    }\n",
              "\n",
              "    .dataframe thead th {\n",
              "        text-align: right;\n",
              "    }\n",
              "</style>\n",
              "<table border=\"1\" class=\"dataframe\">\n",
              "  <thead>\n",
              "    <tr style=\"text-align: right;\">\n",
              "      <th></th>\n",
              "      <th>vac</th>\n",
              "      <th>mse</th>\n",
              "      <th>rmse</th>\n",
              "      <th>mae</th>\n",
              "      <th>depth</th>\n",
              "      <th>ests</th>\n",
              "    </tr>\n",
              "  </thead>\n",
              "  <tbody>\n",
              "    <tr>\n",
              "      <th>count</th>\n",
              "      <td>25.0</td>\n",
              "      <td>2.500000e+01</td>\n",
              "      <td>2.500000e+01</td>\n",
              "      <td>2.500000e+01</td>\n",
              "      <td>25.000000</td>\n",
              "      <td>25.000000</td>\n",
              "    </tr>\n",
              "    <tr>\n",
              "      <th>mean</th>\n",
              "      <td>1.0</td>\n",
              "      <td>6.330597e-32</td>\n",
              "      <td>1.976548e-16</td>\n",
              "      <td>1.157378e-16</td>\n",
              "      <td>53.200000</td>\n",
              "      <td>18.000000</td>\n",
              "    </tr>\n",
              "    <tr>\n",
              "      <th>std</th>\n",
              "      <td>0.0</td>\n",
              "      <td>9.984929e-32</td>\n",
              "      <td>1.588977e-16</td>\n",
              "      <td>9.740804e-17</td>\n",
              "      <td>36.823905</td>\n",
              "      <td>16.329932</td>\n",
              "    </tr>\n",
              "    <tr>\n",
              "      <th>min</th>\n",
              "      <td>1.0</td>\n",
              "      <td>1.110810e-32</td>\n",
              "      <td>1.053950e-16</td>\n",
              "      <td>5.776629e-17</td>\n",
              "      <td>10.000000</td>\n",
              "      <td>10.000000</td>\n",
              "    </tr>\n",
              "    <tr>\n",
              "      <th>25%</th>\n",
              "      <td>1.0</td>\n",
              "      <td>1.479851e-32</td>\n",
              "      <td>1.216491e-16</td>\n",
              "      <td>6.808790e-17</td>\n",
              "      <td>10.000000</td>\n",
              "      <td>10.000000</td>\n",
              "    </tr>\n",
              "    <tr>\n",
              "      <th>50%</th>\n",
              "      <td>1.0</td>\n",
              "      <td>1.480589e-32</td>\n",
              "      <td>1.216794e-16</td>\n",
              "      <td>6.886852e-17</td>\n",
              "      <td>50.000000</td>\n",
              "      <td>10.000000</td>\n",
              "    </tr>\n",
              "    <tr>\n",
              "      <th>75%</th>\n",
              "      <td>1.0</td>\n",
              "      <td>1.541376e-32</td>\n",
              "      <td>1.241522e-16</td>\n",
              "      <td>7.337880e-17</td>\n",
              "      <td>100.000000</td>\n",
              "      <td>10.000000</td>\n",
              "    </tr>\n",
              "    <tr>\n",
              "      <th>max</th>\n",
              "      <td>1.0</td>\n",
              "      <td>2.589629e-31</td>\n",
              "      <td>5.088840e-16</td>\n",
              "      <td>3.066991e-16</td>\n",
              "      <td>100.000000</td>\n",
              "      <td>50.000000</td>\n",
              "    </tr>\n",
              "  </tbody>\n",
              "</table>\n",
              "</div>\n",
              "      <button class=\"colab-df-convert\" onclick=\"convertToInteractive('df-7632502e-132f-454a-bd11-48546d776603')\"\n",
              "              title=\"Convert this dataframe to an interactive table.\"\n",
              "              style=\"display:none;\">\n",
              "        \n",
              "  <svg xmlns=\"http://www.w3.org/2000/svg\" height=\"24px\"viewBox=\"0 0 24 24\"\n",
              "       width=\"24px\">\n",
              "    <path d=\"M0 0h24v24H0V0z\" fill=\"none\"/>\n",
              "    <path d=\"M18.56 5.44l.94 2.06.94-2.06 2.06-.94-2.06-.94-.94-2.06-.94 2.06-2.06.94zm-11 1L8.5 8.5l.94-2.06 2.06-.94-2.06-.94L8.5 2.5l-.94 2.06-2.06.94zm10 10l.94 2.06.94-2.06 2.06-.94-2.06-.94-.94-2.06-.94 2.06-2.06.94z\"/><path d=\"M17.41 7.96l-1.37-1.37c-.4-.4-.92-.59-1.43-.59-.52 0-1.04.2-1.43.59L10.3 9.45l-7.72 7.72c-.78.78-.78 2.05 0 2.83L4 21.41c.39.39.9.59 1.41.59.51 0 1.02-.2 1.41-.59l7.78-7.78 2.81-2.81c.8-.78.8-2.07 0-2.86zM5.41 20L4 18.59l7.72-7.72 1.47 1.35L5.41 20z\"/>\n",
              "  </svg>\n",
              "      </button>\n",
              "      \n",
              "  <style>\n",
              "    .colab-df-container {\n",
              "      display:flex;\n",
              "      flex-wrap:wrap;\n",
              "      gap: 12px;\n",
              "    }\n",
              "\n",
              "    .colab-df-convert {\n",
              "      background-color: #E8F0FE;\n",
              "      border: none;\n",
              "      border-radius: 50%;\n",
              "      cursor: pointer;\n",
              "      display: none;\n",
              "      fill: #1967D2;\n",
              "      height: 32px;\n",
              "      padding: 0 0 0 0;\n",
              "      width: 32px;\n",
              "    }\n",
              "\n",
              "    .colab-df-convert:hover {\n",
              "      background-color: #E2EBFA;\n",
              "      box-shadow: 0px 1px 2px rgba(60, 64, 67, 0.3), 0px 1px 3px 1px rgba(60, 64, 67, 0.15);\n",
              "      fill: #174EA6;\n",
              "    }\n",
              "\n",
              "    [theme=dark] .colab-df-convert {\n",
              "      background-color: #3B4455;\n",
              "      fill: #D2E3FC;\n",
              "    }\n",
              "\n",
              "    [theme=dark] .colab-df-convert:hover {\n",
              "      background-color: #434B5C;\n",
              "      box-shadow: 0px 1px 3px 1px rgba(0, 0, 0, 0.15);\n",
              "      filter: drop-shadow(0px 1px 2px rgba(0, 0, 0, 0.3));\n",
              "      fill: #FFFFFF;\n",
              "    }\n",
              "  </style>\n",
              "\n",
              "      <script>\n",
              "        const buttonEl =\n",
              "          document.querySelector('#df-7632502e-132f-454a-bd11-48546d776603 button.colab-df-convert');\n",
              "        buttonEl.style.display =\n",
              "          google.colab.kernel.accessAllowed ? 'block' : 'none';\n",
              "\n",
              "        async function convertToInteractive(key) {\n",
              "          const element = document.querySelector('#df-7632502e-132f-454a-bd11-48546d776603');\n",
              "          const dataTable =\n",
              "            await google.colab.kernel.invokeFunction('convertToInteractive',\n",
              "                                                     [key], {});\n",
              "          if (!dataTable) return;\n",
              "\n",
              "          const docLinkHtml = 'Like what you see? Visit the ' +\n",
              "            '<a target=\"_blank\" href=https://colab.research.google.com/notebooks/data_table.ipynb>data table notebook</a>'\n",
              "            + ' to learn more about interactive tables.';\n",
              "          element.innerHTML = '';\n",
              "          dataTable['output_type'] = 'display_data';\n",
              "          await google.colab.output.renderOutput(dataTable, element);\n",
              "          const docLink = document.createElement('div');\n",
              "          docLink.innerHTML = docLinkHtml;\n",
              "          element.appendChild(docLink);\n",
              "        }\n",
              "      </script>\n",
              "    </div>\n",
              "  </div>\n",
              "  "
            ],
            "text/plain": [
              "        vac           mse          rmse           mae       depth       ests\n",
              "count  25.0  2.500000e+01  2.500000e+01  2.500000e+01   25.000000  25.000000\n",
              "mean    1.0  6.330597e-32  1.976548e-16  1.157378e-16   53.200000  18.000000\n",
              "std     0.0  9.984929e-32  1.588977e-16  9.740804e-17   36.823905  16.329932\n",
              "min     1.0  1.110810e-32  1.053950e-16  5.776629e-17   10.000000  10.000000\n",
              "25%     1.0  1.479851e-32  1.216491e-16  6.808790e-17   10.000000  10.000000\n",
              "50%     1.0  1.480589e-32  1.216794e-16  6.886852e-17   50.000000  10.000000\n",
              "75%     1.0  1.541376e-32  1.241522e-16  7.337880e-17  100.000000  10.000000\n",
              "max     1.0  2.589629e-31  5.088840e-16  3.066991e-16  100.000000  50.000000"
            ]
          },
          "metadata": {},
          "execution_count": 10
        }
      ]
    },
    {
      "cell_type": "markdown",
      "source": [
        "Looks like n_ests of ~10 and depth of ~50 is the best on average. Use those hyperparmater values to fit everyone's model. "
      ],
      "metadata": {
        "id": "-RM_9a7TI9Ws"
      }
    },
    {
      "cell_type": "code",
      "source": [
        "# Isolate list of features\n",
        "preds = list(encode_df)[1:-1] # All features but PID b/c we're fitting at the PID level\n",
        "\n",
        "# Empty lists to store data in\n",
        "pids = []\n",
        "fit = []\n",
        "vac = []\n",
        "mse = []\n",
        "mae = []\n",
        "rmse = []\n",
        "group = []\n",
        "shap_vals = pd.DataFrame()\n",
        "\n",
        "rand_state = int(round(random.random()*10000, 0))\n",
        "for p in encode_df['pid'].unique():\n",
        "  # Isolate participant data\n",
        "  temp_df = encode_df[encode_df['pid']==p].dropna()\n",
        "  predictors = temp_df[preds].astype(float)\n",
        "  observed_data = temp_df['indiff_point']\n",
        "  temp_df = temp_df.reset_index(drop=True)\n",
        "  # Fir RF regressor\n",
        "  regr = RFR(n_estimators=10, max_depth=50)\n",
        "  model = regr.fit(predictors, observed_data)\n",
        "  predictions = regr.predict(predictors)\n",
        "  # Save loss metrics for this fit\n",
        "  pids.append(p)\n",
        "  fit.append('RF')\n",
        "  vac.append(model.score(predictors, observed_data))\n",
        "  mse.append(metrics.mean_squared_error(observed_data, predictions))\n",
        "  rmse.append(np.sqrt(metrics.mean_squared_error(observed_data, predictions)))\n",
        "  mae.append(metrics.mean_absolute_error(observed_data, predictions))\n",
        "  if temp_df['Group_Cocaine'][0]==1:\n",
        "    group.append('cocaine')\n",
        "  else:\n",
        "    group.append('control')\n",
        "  depth.append(max_depth)\n",
        "  ests.append(n_est)\n",
        "  # Save shapley values\n",
        "  explainer = shap.TreeExplainer(model)\n",
        "  shap_values = explainer(predictors)\n",
        "  shap_df = pd.DataFrame(shap_values.values)\n",
        "  shap_df.columns = shap_values.feature_names\n",
        "  shap_df['pids'] = p\n",
        "  shap_vals = shap_vals.append(shap_df)\n",
        "  clear_output()\n",
        "\n",
        "fit_df_rf = pd.DataFrame({'fit':fit, 'vac':vac, 'mse':mse, 'rmse':rmse, \n",
        "                       'mae': mae, 'group': group, 'pids': pids})\n",
        "fit_df_rf.to_csv(f'../Data/03_hyperparameter_tuning/final_RF_fits.csv')\n",
        "shap_vals_rf.to_csv(f'../Data/04_final_fits/shap_values_RF.csv')"
      ],
      "metadata": {
        "id": "Q62BPetyPk_C"
      },
      "execution_count": 11,
      "outputs": []
    },
    {
      "cell_type": "markdown",
      "source": [
        "## Visualizations"
      ],
      "metadata": {
        "id": "2IlE8coFSjWT"
      }
    },
    {
      "cell_type": "code",
      "source": [
        "# Change to long format for easier plotting\n",
        "fit_long_rf = fit_df_rf.melt(id_vars=['fit', 'group', 'pids'], \n",
        "                          value_vars=['vac', 'mse', 'rmse', 'mae'])\n",
        "\n",
        "# Show every 18th row\n",
        "fit_long_rf[::18]"
      ],
      "metadata": {
        "colab": {
          "base_uri": "https://localhost:8080/",
          "height": 394
        },
        "id": "va5Hw2IDFGv7",
        "outputId": "61fe384c-c3fb-42ab-9835-38855c0b9d9e"
      },
      "execution_count": 14,
      "outputs": [
        {
          "output_type": "execute_result",
          "data": {
            "text/html": [
              "\n",
              "  <div id=\"df-9059681d-7d09-4ba4-a51b-6f5487727583\">\n",
              "    <div class=\"colab-df-container\">\n",
              "      <div>\n",
              "<style scoped>\n",
              "    .dataframe tbody tr th:only-of-type {\n",
              "        vertical-align: middle;\n",
              "    }\n",
              "\n",
              "    .dataframe tbody tr th {\n",
              "        vertical-align: top;\n",
              "    }\n",
              "\n",
              "    .dataframe thead th {\n",
              "        text-align: right;\n",
              "    }\n",
              "</style>\n",
              "<table border=\"1\" class=\"dataframe\">\n",
              "  <thead>\n",
              "    <tr style=\"text-align: right;\">\n",
              "      <th></th>\n",
              "      <th>fit</th>\n",
              "      <th>group</th>\n",
              "      <th>pids</th>\n",
              "      <th>variable</th>\n",
              "      <th>value</th>\n",
              "    </tr>\n",
              "  </thead>\n",
              "  <tbody>\n",
              "    <tr>\n",
              "      <th>0</th>\n",
              "      <td>RF</td>\n",
              "      <td>cocaine</td>\n",
              "      <td>GM33</td>\n",
              "      <td>vac</td>\n",
              "      <td>0.958189</td>\n",
              "    </tr>\n",
              "    <tr>\n",
              "      <th>18</th>\n",
              "      <td>RF</td>\n",
              "      <td>cocaine</td>\n",
              "      <td>SL85</td>\n",
              "      <td>vac</td>\n",
              "      <td>0.990796</td>\n",
              "    </tr>\n",
              "    <tr>\n",
              "      <th>36</th>\n",
              "      <td>RF</td>\n",
              "      <td>control</td>\n",
              "      <td>AL32</td>\n",
              "      <td>vac</td>\n",
              "      <td>0.930994</td>\n",
              "    </tr>\n",
              "    <tr>\n",
              "      <th>54</th>\n",
              "      <td>RF</td>\n",
              "      <td>cocaine</td>\n",
              "      <td>SR51</td>\n",
              "      <td>mse</td>\n",
              "      <td>0.010858</td>\n",
              "    </tr>\n",
              "    <tr>\n",
              "      <th>72</th>\n",
              "      <td>RF</td>\n",
              "      <td>control</td>\n",
              "      <td>CB15</td>\n",
              "      <td>mse</td>\n",
              "      <td>0.005989</td>\n",
              "    </tr>\n",
              "    <tr>\n",
              "      <th>90</th>\n",
              "      <td>RF</td>\n",
              "      <td>control</td>\n",
              "      <td>JF95</td>\n",
              "      <td>mse</td>\n",
              "      <td>0.016844</td>\n",
              "    </tr>\n",
              "    <tr>\n",
              "      <th>108</th>\n",
              "      <td>RF</td>\n",
              "      <td>cocaine</td>\n",
              "      <td>RR70</td>\n",
              "      <td>rmse</td>\n",
              "      <td>0.045324</td>\n",
              "    </tr>\n",
              "    <tr>\n",
              "      <th>126</th>\n",
              "      <td>RF</td>\n",
              "      <td>control</td>\n",
              "      <td>JB26</td>\n",
              "      <td>rmse</td>\n",
              "      <td>0.055902</td>\n",
              "    </tr>\n",
              "    <tr>\n",
              "      <th>144</th>\n",
              "      <td>RF</td>\n",
              "      <td>cocaine</td>\n",
              "      <td>DP39</td>\n",
              "      <td>mae</td>\n",
              "      <td>0.048429</td>\n",
              "    </tr>\n",
              "    <tr>\n",
              "      <th>162</th>\n",
              "      <td>RF</td>\n",
              "      <td>cocaine</td>\n",
              "      <td>KW106</td>\n",
              "      <td>mae</td>\n",
              "      <td>0.046421</td>\n",
              "    </tr>\n",
              "    <tr>\n",
              "      <th>180</th>\n",
              "      <td>RF</td>\n",
              "      <td>control</td>\n",
              "      <td>JA87</td>\n",
              "      <td>mae</td>\n",
              "      <td>0.040982</td>\n",
              "    </tr>\n",
              "  </tbody>\n",
              "</table>\n",
              "</div>\n",
              "      <button class=\"colab-df-convert\" onclick=\"convertToInteractive('df-9059681d-7d09-4ba4-a51b-6f5487727583')\"\n",
              "              title=\"Convert this dataframe to an interactive table.\"\n",
              "              style=\"display:none;\">\n",
              "        \n",
              "  <svg xmlns=\"http://www.w3.org/2000/svg\" height=\"24px\"viewBox=\"0 0 24 24\"\n",
              "       width=\"24px\">\n",
              "    <path d=\"M0 0h24v24H0V0z\" fill=\"none\"/>\n",
              "    <path d=\"M18.56 5.44l.94 2.06.94-2.06 2.06-.94-2.06-.94-.94-2.06-.94 2.06-2.06.94zm-11 1L8.5 8.5l.94-2.06 2.06-.94-2.06-.94L8.5 2.5l-.94 2.06-2.06.94zm10 10l.94 2.06.94-2.06 2.06-.94-2.06-.94-.94-2.06-.94 2.06-2.06.94z\"/><path d=\"M17.41 7.96l-1.37-1.37c-.4-.4-.92-.59-1.43-.59-.52 0-1.04.2-1.43.59L10.3 9.45l-7.72 7.72c-.78.78-.78 2.05 0 2.83L4 21.41c.39.39.9.59 1.41.59.51 0 1.02-.2 1.41-.59l7.78-7.78 2.81-2.81c.8-.78.8-2.07 0-2.86zM5.41 20L4 18.59l7.72-7.72 1.47 1.35L5.41 20z\"/>\n",
              "  </svg>\n",
              "      </button>\n",
              "      \n",
              "  <style>\n",
              "    .colab-df-container {\n",
              "      display:flex;\n",
              "      flex-wrap:wrap;\n",
              "      gap: 12px;\n",
              "    }\n",
              "\n",
              "    .colab-df-convert {\n",
              "      background-color: #E8F0FE;\n",
              "      border: none;\n",
              "      border-radius: 50%;\n",
              "      cursor: pointer;\n",
              "      display: none;\n",
              "      fill: #1967D2;\n",
              "      height: 32px;\n",
              "      padding: 0 0 0 0;\n",
              "      width: 32px;\n",
              "    }\n",
              "\n",
              "    .colab-df-convert:hover {\n",
              "      background-color: #E2EBFA;\n",
              "      box-shadow: 0px 1px 2px rgba(60, 64, 67, 0.3), 0px 1px 3px 1px rgba(60, 64, 67, 0.15);\n",
              "      fill: #174EA6;\n",
              "    }\n",
              "\n",
              "    [theme=dark] .colab-df-convert {\n",
              "      background-color: #3B4455;\n",
              "      fill: #D2E3FC;\n",
              "    }\n",
              "\n",
              "    [theme=dark] .colab-df-convert:hover {\n",
              "      background-color: #434B5C;\n",
              "      box-shadow: 0px 1px 3px 1px rgba(0, 0, 0, 0.15);\n",
              "      filter: drop-shadow(0px 1px 2px rgba(0, 0, 0, 0.3));\n",
              "      fill: #FFFFFF;\n",
              "    }\n",
              "  </style>\n",
              "\n",
              "      <script>\n",
              "        const buttonEl =\n",
              "          document.querySelector('#df-9059681d-7d09-4ba4-a51b-6f5487727583 button.colab-df-convert');\n",
              "        buttonEl.style.display =\n",
              "          google.colab.kernel.accessAllowed ? 'block' : 'none';\n",
              "\n",
              "        async function convertToInteractive(key) {\n",
              "          const element = document.querySelector('#df-9059681d-7d09-4ba4-a51b-6f5487727583');\n",
              "          const dataTable =\n",
              "            await google.colab.kernel.invokeFunction('convertToInteractive',\n",
              "                                                     [key], {});\n",
              "          if (!dataTable) return;\n",
              "\n",
              "          const docLinkHtml = 'Like what you see? Visit the ' +\n",
              "            '<a target=\"_blank\" href=https://colab.research.google.com/notebooks/data_table.ipynb>data table notebook</a>'\n",
              "            + ' to learn more about interactive tables.';\n",
              "          element.innerHTML = '';\n",
              "          dataTable['output_type'] = 'display_data';\n",
              "          await google.colab.output.renderOutput(dataTable, element);\n",
              "          const docLink = document.createElement('div');\n",
              "          docLink.innerHTML = docLinkHtml;\n",
              "          element.appendChild(docLink);\n",
              "        }\n",
              "      </script>\n",
              "    </div>\n",
              "  </div>\n",
              "  "
            ],
            "text/plain": [
              "    fit    group   pids variable     value\n",
              "0    RF  cocaine   GM33      vac  0.958189\n",
              "18   RF  cocaine   SL85      vac  0.990796\n",
              "36   RF  control   AL32      vac  0.930994\n",
              "54   RF  cocaine   SR51      mse  0.010858\n",
              "72   RF  control   CB15      mse  0.005989\n",
              "90   RF  control   JF95      mse  0.016844\n",
              "108  RF  cocaine   RR70     rmse  0.045324\n",
              "126  RF  control   JB26     rmse  0.055902\n",
              "144  RF  cocaine   DP39      mae  0.048429\n",
              "162  RF  cocaine  KW106      mae  0.046421\n",
              "180  RF  control   JA87      mae  0.040982"
            ]
          },
          "metadata": {},
          "execution_count": 14
        }
      ]
    },
    {
      "cell_type": "markdown",
      "source": [
        "### Loss metrics"
      ],
      "metadata": {
        "id": "OlaE5JLESsdz"
      }
    },
    {
      "cell_type": "code",
      "source": [
        "# Box and swarms for loss metrics\n",
        "box_swarm(df=fit_long_rf[fit_long_rf['variable']=='vac'], width=4, ylim=(0, 1))\n",
        "box_swarm(df=fit_long_rf[fit_long_rf['variable']!='vac'])"
      ],
      "metadata": {
        "colab": {
          "base_uri": "https://localhost:8080/",
          "height": 1000
        },
        "id": "G6ynsREkORNA",
        "outputId": "4e8a2ca2-2e58-4967-f48e-9cea6c3e80ee"
      },
      "execution_count": 32,
      "outputs": [
        {
          "output_type": "display_data",
          "data": {
            "image/png": "[encoded data removed]",
            "text/plain": [
              "<Figure size 288x864 with 1 Axes>"
            ]
          },
          "metadata": {
            "needs_background": "light"
          }
        },
        {
          "output_type": "display_data",
          "data": {
            "image/png": "[encoded data removed]",
            "text/plain": [
              "<Figure size 1080x864 with 1 Axes>"
            ]
          },
          "metadata": {
            "needs_background": "light"
          }
        }
      ]
    },
    {
      "cell_type": "markdown",
      "source": [
        "### Feature Importances"
      ],
      "metadata": {
        "id": "fHlQwYLWSz7e"
      }
    },
    {
      "cell_type": "code",
      "source": [
        "# CREATE DATAFRAME\n",
        "#Create arrays from feature importance and feature names\n",
        "feature_importance = np.array(model.feature_importances_)\n",
        "feature_names = np.array(predictors.columns)\n",
        "\n",
        "#Create a DataFrame using a Dictionary\n",
        "data={'feature_names':feature_names,'feature_importance':feature_importance}\n",
        "fi_df = pd.DataFrame(data)\n",
        "\n",
        "#Sort the DataFrame in order decreasing feature importance\n",
        "fi_df.sort_values(by=['feature_importance'], ascending=False,inplace=True)\n",
        "fi_df"
      ],
      "metadata": {
        "colab": {
          "base_uri": "https://localhost:8080/",
          "height": 300
        },
        "id": "DoWd2qS_S1Xf",
        "outputId": "ac483de3-52a9-4194-aec5-07cb591ba39c"
      },
      "execution_count": 42,
      "outputs": [
        {
          "output_type": "execute_result",
          "data": {
            "text/html": [
              "\n",
              "  <div id=\"df-46171116-6245-4e63-851d-54fc621d403d\">\n",
              "    <div class=\"colab-df-container\">\n",
              "      <div>\n",
              "<style scoped>\n",
              "    .dataframe tbody tr th:only-of-type {\n",
              "        vertical-align: middle;\n",
              "    }\n",
              "\n",
              "    .dataframe tbody tr th {\n",
              "        vertical-align: top;\n",
              "    }\n",
              "\n",
              "    .dataframe thead th {\n",
              "        text-align: right;\n",
              "    }\n",
              "</style>\n",
              "<table border=\"1\" class=\"dataframe\">\n",
              "  <thead>\n",
              "    <tr style=\"text-align: right;\">\n",
              "      <th></th>\n",
              "      <th>feature_names</th>\n",
              "      <th>feature_importance</th>\n",
              "    </tr>\n",
              "  </thead>\n",
              "  <tbody>\n",
              "    <tr>\n",
              "      <th>7</th>\n",
              "      <td>IV</td>\n",
              "      <td>0.642857</td>\n",
              "    </tr>\n",
              "    <tr>\n",
              "      <th>5</th>\n",
              "      <td>Delay_Prob_Delay</td>\n",
              "      <td>0.156570</td>\n",
              "    </tr>\n",
              "    <tr>\n",
              "      <th>4</th>\n",
              "      <td>Gain_Loss_Gains</td>\n",
              "      <td>0.108334</td>\n",
              "    </tr>\n",
              "    <tr>\n",
              "      <th>6</th>\n",
              "      <td>Amount</td>\n",
              "      <td>0.069142</td>\n",
              "    </tr>\n",
              "    <tr>\n",
              "      <th>3</th>\n",
              "      <td>Commodity_Money</td>\n",
              "      <td>0.013198</td>\n",
              "    </tr>\n",
              "    <tr>\n",
              "      <th>2</th>\n",
              "      <td>Commodity_Health</td>\n",
              "      <td>0.009899</td>\n",
              "    </tr>\n",
              "    <tr>\n",
              "      <th>0</th>\n",
              "      <td>Group_Cocaine</td>\n",
              "      <td>0.000000</td>\n",
              "    </tr>\n",
              "    <tr>\n",
              "      <th>1</th>\n",
              "      <td>Commodity_Cocaine</td>\n",
              "      <td>0.000000</td>\n",
              "    </tr>\n",
              "  </tbody>\n",
              "</table>\n",
              "</div>\n",
              "      <button class=\"colab-df-convert\" onclick=\"convertToInteractive('df-46171116-6245-4e63-851d-54fc621d403d')\"\n",
              "              title=\"Convert this dataframe to an interactive table.\"\n",
              "              style=\"display:none;\">\n",
              "        \n",
              "  <svg xmlns=\"http://www.w3.org/2000/svg\" height=\"24px\"viewBox=\"0 0 24 24\"\n",
              "       width=\"24px\">\n",
              "    <path d=\"M0 0h24v24H0V0z\" fill=\"none\"/>\n",
              "    <path d=\"M18.56 5.44l.94 2.06.94-2.06 2.06-.94-2.06-.94-.94-2.06-.94 2.06-2.06.94zm-11 1L8.5 8.5l.94-2.06 2.06-.94-2.06-.94L8.5 2.5l-.94 2.06-2.06.94zm10 10l.94 2.06.94-2.06 2.06-.94-2.06-.94-.94-2.06-.94 2.06-2.06.94z\"/><path d=\"M17.41 7.96l-1.37-1.37c-.4-.4-.92-.59-1.43-.59-.52 0-1.04.2-1.43.59L10.3 9.45l-7.72 7.72c-.78.78-.78 2.05 0 2.83L4 21.41c.39.39.9.59 1.41.59.51 0 1.02-.2 1.41-.59l7.78-7.78 2.81-2.81c.8-.78.8-2.07 0-2.86zM5.41 20L4 18.59l7.72-7.72 1.47 1.35L5.41 20z\"/>\n",
              "  </svg>\n",
              "      </button>\n",
              "      \n",
              "  <style>\n",
              "    .colab-df-container {\n",
              "      display:flex;\n",
              "      flex-wrap:wrap;\n",
              "      gap: 12px;\n",
              "    }\n",
              "\n",
              "    .colab-df-convert {\n",
              "      background-color: #E8F0FE;\n",
              "      border: none;\n",
              "      border-radius: 50%;\n",
              "      cursor: pointer;\n",
              "      display: none;\n",
              "      fill: #1967D2;\n",
              "      height: 32px;\n",
              "      padding: 0 0 0 0;\n",
              "      width: 32px;\n",
              "    }\n",
              "\n",
              "    .colab-df-convert:hover {\n",
              "      background-color: #E2EBFA;\n",
              "      box-shadow: 0px 1px 2px rgba(60, 64, 67, 0.3), 0px 1px 3px 1px rgba(60, 64, 67, 0.15);\n",
              "      fill: #174EA6;\n",
              "    }\n",
              "\n",
              "    [theme=dark] .colab-df-convert {\n",
              "      background-color: #3B4455;\n",
              "      fill: #D2E3FC;\n",
              "    }\n",
              "\n",
              "    [theme=dark] .colab-df-convert:hover {\n",
              "      background-color: #434B5C;\n",
              "      box-shadow: 0px 1px 3px 1px rgba(0, 0, 0, 0.15);\n",
              "      filter: drop-shadow(0px 1px 2px rgba(0, 0, 0, 0.3));\n",
              "      fill: #FFFFFF;\n",
              "    }\n",
              "  </style>\n",
              "\n",
              "      <script>\n",
              "        const buttonEl =\n",
              "          document.querySelector('#df-46171116-6245-4e63-851d-54fc621d403d button.colab-df-convert');\n",
              "        buttonEl.style.display =\n",
              "          google.colab.kernel.accessAllowed ? 'block' : 'none';\n",
              "\n",
              "        async function convertToInteractive(key) {\n",
              "          const element = document.querySelector('#df-46171116-6245-4e63-851d-54fc621d403d');\n",
              "          const dataTable =\n",
              "            await google.colab.kernel.invokeFunction('convertToInteractive',\n",
              "                                                     [key], {});\n",
              "          if (!dataTable) return;\n",
              "\n",
              "          const docLinkHtml = 'Like what you see? Visit the ' +\n",
              "            '<a target=\"_blank\" href=https://colab.research.google.com/notebooks/data_table.ipynb>data table notebook</a>'\n",
              "            + ' to learn more about interactive tables.';\n",
              "          element.innerHTML = '';\n",
              "          dataTable['output_type'] = 'display_data';\n",
              "          await google.colab.output.renderOutput(dataTable, element);\n",
              "          const docLink = document.createElement('div');\n",
              "          docLink.innerHTML = docLinkHtml;\n",
              "          element.appendChild(docLink);\n",
              "        }\n",
              "      </script>\n",
              "    </div>\n",
              "  </div>\n",
              "  "
            ],
            "text/plain": [
              "       feature_names  feature_importance\n",
              "7                 IV            0.642857\n",
              "5   Delay_Prob_Delay            0.156570\n",
              "4    Gain_Loss_Gains            0.108334\n",
              "6             Amount            0.069142\n",
              "3    Commodity_Money            0.013198\n",
              "2   Commodity_Health            0.009899\n",
              "0      Group_Cocaine            0.000000\n",
              "1  Commodity_Cocaine            0.000000"
            ]
          },
          "metadata": {},
          "execution_count": 42
        }
      ]
    },
    {
      "cell_type": "code",
      "source": [
        "# Plot it\n",
        "ticks = [0, 0.1, 0.2, 0.3, 0.4, 0.5, 0.6, 0.7]\n",
        "labels = ['0\\nLess', '0.1', '0.2', '0.3', '0.4', '0.5', '0.6', '0.7\\nMore']\n",
        "plt.figure(figsize=(6, 6))\n",
        "sns.barplot(x=fi_df['feature_importance'], y=fi_df['feature_names'], color='#002d4f')\n",
        "plt.xlabel('Importance', fontsize=30, labelpad=20)\n",
        "plt.xticks(ticks = ticks, \n",
        "           labels = labels, \n",
        "           fontsize=14)\n",
        "plt.ylabel('', fontsize=30, labelpad=20, rotation=0)\n",
        "plt.yticks(fontsize=14)\n",
        "# plt.ylim(-0.5, 9.5)\n",
        "plt.show()"
      ],
      "metadata": {
        "colab": {
          "base_uri": "https://localhost:8080/",
          "height": 443
        },
        "id": "feSiyTXhS1uO",
        "outputId": "8559088f-6523-4b8c-80cc-81863bd7fbbc"
      },
      "execution_count": 45,
      "outputs": [
        {
          "output_type": "display_data",
          "data": {
            "image/png": "[encoded data removed]",
            "text/plain": [
              "<Figure size 432x432 with 1 Axes>"
            ]
          },
          "metadata": {
            "needs_background": "light"
          }
        }
      ]
    },
    {
      "cell_type": "code",
      "source": [
        ""
      ],
      "metadata": {
        "id": "PSp7htQmS1yN"
      },
      "execution_count": null,
      "outputs": []
    },
    {
      "cell_type": "markdown",
      "source": [
        "### Shapley Values"
      ],
      "metadata": {
        "id": "CWhpNMODSwIr"
      }
    },
    {
      "cell_type": "code",
      "source": [
        "shap.summary_plot(shap_values_rf)"
      ],
      "metadata": {
        "colab": {
          "base_uri": "https://localhost:8080/",
          "height": 324
        },
        "id": "hXWY4Vfsk6h4",
        "outputId": "b6ea8cc0-574b-40d6-fce2-d8538e9bead5"
      },
      "execution_count": 27,
      "outputs": [
        {
          "output_type": "display_data",
          "data": {
            "image/png": "[encoded data removed]",
            "text/plain": [
              "<Figure size 576x338.4 with 2 Axes>"
            ]
          },
          "metadata": {
            "needs_background": "light"
          }
        }
      ]
    },
    {
      "cell_type": "code",
      "source": [
        "shap.dependence_plot('IV', shap_values_rf.values, predictors)"
      ],
      "metadata": {
        "colab": {
          "base_uri": "https://localhost:8080/",
          "height": 341
        },
        "id": "j3Ryy-ExFV0S",
        "outputId": "9d687de9-1465-46e9-acd3-5747dac1172d"
      },
      "execution_count": 28,
      "outputs": [
        {
          "output_type": "display_data",
          "data": {
            "image/png": "[encoded data removed]",
            "text/plain": [
              "<Figure size 540x360 with 2 Axes>"
            ]
          },
          "metadata": {
            "needs_background": "light"
          }
        }
      ]
    },
    {
      "cell_type": "code",
      "source": [
        "testing = predictors.copy()\n",
        "testing['IV'] = np.log(testing['IV'])\n",
        "shap.dependence_plot('IV', shap_values.values, testing)"
      ],
      "metadata": {
        "colab": {
          "base_uri": "https://localhost:8080/",
          "height": 341
        },
        "id": "RjrPvbK_ATjx",
        "outputId": "a40a622b-e1fb-4787-c650-fdbc1b98b69e"
      },
      "execution_count": 33,
      "outputs": [
        {
          "output_type": "display_data",
          "data": {
            "image/png": "[encoded data removed]",
            "text/plain": [
              "<Figure size 540x360 with 2 Axes>"
            ]
          },
          "metadata": {
            "needs_background": "light"
          }
        }
      ]
    },
    {
      "cell_type": "code",
      "source": [
        "shap_df"
      ],
      "metadata": {
        "colab": {
          "base_uri": "https://localhost:8080/",
          "height": 424
        },
        "id": "eI9uVVCDRqHD",
        "outputId": "2be9f410-d0e2-4e5a-a147-39be483da602"
      },
      "execution_count": 38,
      "outputs": [
        {
          "output_type": "execute_result",
          "data": {
            "text/html": [
              "\n",
              "  <div id=\"df-eccc41fe-7fc4-477d-acde-1d4490dda3fc\">\n",
              "    <div class=\"colab-df-container\">\n",
              "      <div>\n",
              "<style scoped>\n",
              "    .dataframe tbody tr th:only-of-type {\n",
              "        vertical-align: middle;\n",
              "    }\n",
              "\n",
              "    .dataframe tbody tr th {\n",
              "        vertical-align: top;\n",
              "    }\n",
              "\n",
              "    .dataframe thead th {\n",
              "        text-align: right;\n",
              "    }\n",
              "</style>\n",
              "<table border=\"1\" class=\"dataframe\">\n",
              "  <thead>\n",
              "    <tr style=\"text-align: right;\">\n",
              "      <th></th>\n",
              "      <th>Group_Cocaine</th>\n",
              "      <th>Commodity_Cocaine</th>\n",
              "      <th>Commodity_Health</th>\n",
              "      <th>Commodity_Money</th>\n",
              "      <th>Gain_Loss_Gains</th>\n",
              "      <th>Delay_Prob_Delay</th>\n",
              "      <th>Amount</th>\n",
              "      <th>IV</th>\n",
              "      <th>pids</th>\n",
              "    </tr>\n",
              "  </thead>\n",
              "  <tbody>\n",
              "    <tr>\n",
              "      <th>0</th>\n",
              "      <td>0.0</td>\n",
              "      <td>0.0</td>\n",
              "      <td>0.008881</td>\n",
              "      <td>-0.000396</td>\n",
              "      <td>-0.032676</td>\n",
              "      <td>0.175530</td>\n",
              "      <td>-0.018090</td>\n",
              "      <td>0.266940</td>\n",
              "      <td>MG109</td>\n",
              "    </tr>\n",
              "    <tr>\n",
              "      <th>1</th>\n",
              "      <td>0.0</td>\n",
              "      <td>0.0</td>\n",
              "      <td>0.006925</td>\n",
              "      <td>-0.001139</td>\n",
              "      <td>-0.019771</td>\n",
              "      <td>0.191924</td>\n",
              "      <td>-0.021360</td>\n",
              "      <td>0.219611</td>\n",
              "      <td>MG109</td>\n",
              "    </tr>\n",
              "    <tr>\n",
              "      <th>2</th>\n",
              "      <td>0.0</td>\n",
              "      <td>0.0</td>\n",
              "      <td>0.007949</td>\n",
              "      <td>0.023324</td>\n",
              "      <td>-0.012117</td>\n",
              "      <td>0.145526</td>\n",
              "      <td>-0.023289</td>\n",
              "      <td>0.178796</td>\n",
              "      <td>MG109</td>\n",
              "    </tr>\n",
              "    <tr>\n",
              "      <th>3</th>\n",
              "      <td>0.0</td>\n",
              "      <td>0.0</td>\n",
              "      <td>-0.010704</td>\n",
              "      <td>-0.002927</td>\n",
              "      <td>-0.053429</td>\n",
              "      <td>0.050222</td>\n",
              "      <td>-0.109317</td>\n",
              "      <td>-0.336655</td>\n",
              "      <td>MG109</td>\n",
              "    </tr>\n",
              "    <tr>\n",
              "      <th>4</th>\n",
              "      <td>0.0</td>\n",
              "      <td>0.0</td>\n",
              "      <td>0.005597</td>\n",
              "      <td>-0.004119</td>\n",
              "      <td>-0.064684</td>\n",
              "      <td>0.038049</td>\n",
              "      <td>-0.024322</td>\n",
              "      <td>-0.466332</td>\n",
              "      <td>MG109</td>\n",
              "    </tr>\n",
              "    <tr>\n",
              "      <th>...</th>\n",
              "      <td>...</td>\n",
              "      <td>...</td>\n",
              "      <td>...</td>\n",
              "      <td>...</td>\n",
              "      <td>...</td>\n",
              "      <td>...</td>\n",
              "      <td>...</td>\n",
              "      <td>...</td>\n",
              "      <td>...</td>\n",
              "    </tr>\n",
              "    <tr>\n",
              "      <th>106</th>\n",
              "      <td>0.0</td>\n",
              "      <td>0.0</td>\n",
              "      <td>0.000675</td>\n",
              "      <td>0.000152</td>\n",
              "      <td>0.026359</td>\n",
              "      <td>-0.083852</td>\n",
              "      <td>0.040795</td>\n",
              "      <td>0.404060</td>\n",
              "      <td>MG109</td>\n",
              "    </tr>\n",
              "    <tr>\n",
              "      <th>107</th>\n",
              "      <td>0.0</td>\n",
              "      <td>0.0</td>\n",
              "      <td>0.000614</td>\n",
              "      <td>0.001147</td>\n",
              "      <td>0.032654</td>\n",
              "      <td>-0.181083</td>\n",
              "      <td>-0.008462</td>\n",
              "      <td>0.073320</td>\n",
              "      <td>MG109</td>\n",
              "    </tr>\n",
              "    <tr>\n",
              "      <th>108</th>\n",
              "      <td>0.0</td>\n",
              "      <td>0.0</td>\n",
              "      <td>0.000595</td>\n",
              "      <td>0.000493</td>\n",
              "      <td>0.074550</td>\n",
              "      <td>-0.207710</td>\n",
              "      <td>0.023754</td>\n",
              "      <td>-0.045493</td>\n",
              "      <td>MG109</td>\n",
              "    </tr>\n",
              "    <tr>\n",
              "      <th>109</th>\n",
              "      <td>0.0</td>\n",
              "      <td>0.0</td>\n",
              "      <td>0.000625</td>\n",
              "      <td>-0.000288</td>\n",
              "      <td>0.017270</td>\n",
              "      <td>-0.347785</td>\n",
              "      <td>0.025433</td>\n",
              "      <td>-0.123065</td>\n",
              "      <td>MG109</td>\n",
              "    </tr>\n",
              "    <tr>\n",
              "      <th>110</th>\n",
              "      <td>0.0</td>\n",
              "      <td>0.0</td>\n",
              "      <td>0.000687</td>\n",
              "      <td>-0.001331</td>\n",
              "      <td>0.000022</td>\n",
              "      <td>-0.312457</td>\n",
              "      <td>0.031395</td>\n",
              "      <td>-0.256128</td>\n",
              "      <td>MG109</td>\n",
              "    </tr>\n",
              "  </tbody>\n",
              "</table>\n",
              "<p>111 rows × 9 columns</p>\n",
              "</div>\n",
              "      <button class=\"colab-df-convert\" onclick=\"convertToInteractive('df-eccc41fe-7fc4-477d-acde-1d4490dda3fc')\"\n",
              "              title=\"Convert this dataframe to an interactive table.\"\n",
              "              style=\"display:none;\">\n",
              "        \n",
              "  <svg xmlns=\"http://www.w3.org/2000/svg\" height=\"24px\"viewBox=\"0 0 24 24\"\n",
              "       width=\"24px\">\n",
              "    <path d=\"M0 0h24v24H0V0z\" fill=\"none\"/>\n",
              "    <path d=\"M18.56 5.44l.94 2.06.94-2.06 2.06-.94-2.06-.94-.94-2.06-.94 2.06-2.06.94zm-11 1L8.5 8.5l.94-2.06 2.06-.94-2.06-.94L8.5 2.5l-.94 2.06-2.06.94zm10 10l.94 2.06.94-2.06 2.06-.94-2.06-.94-.94-2.06-.94 2.06-2.06.94z\"/><path d=\"M17.41 7.96l-1.37-1.37c-.4-.4-.92-.59-1.43-.59-.52 0-1.04.2-1.43.59L10.3 9.45l-7.72 7.72c-.78.78-.78 2.05 0 2.83L4 21.41c.39.39.9.59 1.41.59.51 0 1.02-.2 1.41-.59l7.78-7.78 2.81-2.81c.8-.78.8-2.07 0-2.86zM5.41 20L4 18.59l7.72-7.72 1.47 1.35L5.41 20z\"/>\n",
              "  </svg>\n",
              "      </button>\n",
              "      \n",
              "  <style>\n",
              "    .colab-df-container {\n",
              "      display:flex;\n",
              "      flex-wrap:wrap;\n",
              "      gap: 12px;\n",
              "    }\n",
              "\n",
              "    .colab-df-convert {\n",
              "      background-color: #E8F0FE;\n",
              "      border: none;\n",
              "      border-radius: 50%;\n",
              "      cursor: pointer;\n",
              "      display: none;\n",
              "      fill: #1967D2;\n",
              "      height: 32px;\n",
              "      padding: 0 0 0 0;\n",
              "      width: 32px;\n",
              "    }\n",
              "\n",
              "    .colab-df-convert:hover {\n",
              "      background-color: #E2EBFA;\n",
              "      box-shadow: 0px 1px 2px rgba(60, 64, 67, 0.3), 0px 1px 3px 1px rgba(60, 64, 67, 0.15);\n",
              "      fill: #174EA6;\n",
              "    }\n",
              "\n",
              "    [theme=dark] .colab-df-convert {\n",
              "      background-color: #3B4455;\n",
              "      fill: #D2E3FC;\n",
              "    }\n",
              "\n",
              "    [theme=dark] .colab-df-convert:hover {\n",
              "      background-color: #434B5C;\n",
              "      box-shadow: 0px 1px 3px 1px rgba(0, 0, 0, 0.15);\n",
              "      filter: drop-shadow(0px 1px 2px rgba(0, 0, 0, 0.3));\n",
              "      fill: #FFFFFF;\n",
              "    }\n",
              "  </style>\n",
              "\n",
              "      <script>\n",
              "        const buttonEl =\n",
              "          document.querySelector('#df-eccc41fe-7fc4-477d-acde-1d4490dda3fc button.colab-df-convert');\n",
              "        buttonEl.style.display =\n",
              "          google.colab.kernel.accessAllowed ? 'block' : 'none';\n",
              "\n",
              "        async function convertToInteractive(key) {\n",
              "          const element = document.querySelector('#df-eccc41fe-7fc4-477d-acde-1d4490dda3fc');\n",
              "          const dataTable =\n",
              "            await google.colab.kernel.invokeFunction('convertToInteractive',\n",
              "                                                     [key], {});\n",
              "          if (!dataTable) return;\n",
              "\n",
              "          const docLinkHtml = 'Like what you see? Visit the ' +\n",
              "            '<a target=\"_blank\" href=https://colab.research.google.com/notebooks/data_table.ipynb>data table notebook</a>'\n",
              "            + ' to learn more about interactive tables.';\n",
              "          element.innerHTML = '';\n",
              "          dataTable['output_type'] = 'display_data';\n",
              "          await google.colab.output.renderOutput(dataTable, element);\n",
              "          const docLink = document.createElement('div');\n",
              "          docLink.innerHTML = docLinkHtml;\n",
              "          element.appendChild(docLink);\n",
              "        }\n",
              "      </script>\n",
              "    </div>\n",
              "  </div>\n",
              "  "
            ],
            "text/plain": [
              "     Group_Cocaine  Commodity_Cocaine  Commodity_Health  Commodity_Money  \\\n",
              "0              0.0                0.0          0.008881        -0.000396   \n",
              "1              0.0                0.0          0.006925        -0.001139   \n",
              "2              0.0                0.0          0.007949         0.023324   \n",
              "3              0.0                0.0         -0.010704        -0.002927   \n",
              "4              0.0                0.0          0.005597        -0.004119   \n",
              "..             ...                ...               ...              ...   \n",
              "106            0.0                0.0          0.000675         0.000152   \n",
              "107            0.0                0.0          0.000614         0.001147   \n",
              "108            0.0                0.0          0.000595         0.000493   \n",
              "109            0.0                0.0          0.000625        -0.000288   \n",
              "110            0.0                0.0          0.000687        -0.001331   \n",
              "\n",
              "     Gain_Loss_Gains  Delay_Prob_Delay    Amount        IV   pids  \n",
              "0          -0.032676          0.175530 -0.018090  0.266940  MG109  \n",
              "1          -0.019771          0.191924 -0.021360  0.219611  MG109  \n",
              "2          -0.012117          0.145526 -0.023289  0.178796  MG109  \n",
              "3          -0.053429          0.050222 -0.109317 -0.336655  MG109  \n",
              "4          -0.064684          0.038049 -0.024322 -0.466332  MG109  \n",
              "..               ...               ...       ...       ...    ...  \n",
              "106         0.026359         -0.083852  0.040795  0.404060  MG109  \n",
              "107         0.032654         -0.181083 -0.008462  0.073320  MG109  \n",
              "108         0.074550         -0.207710  0.023754 -0.045493  MG109  \n",
              "109         0.017270         -0.347785  0.025433 -0.123065  MG109  \n",
              "110         0.000022         -0.312457  0.031395 -0.256128  MG109  \n",
              "\n",
              "[111 rows x 9 columns]"
            ]
          },
          "metadata": {},
          "execution_count": 38
        }
      ]
    },
    {
      "cell_type": "markdown",
      "source": [
        "# Gradient Boosting\n",
        "## Hyperparameters to tune:\n",
        "\n",
        "* learning_rate: Shrinks contribution of each tree\n",
        "* n_est: The number of boosting stages to perform\n",
        "* max_depth: Max depth of the individual regression estimators"
      ],
      "metadata": {
        "id": "uacJXZVkOKqv"
      }
    },
    {
      "cell_type": "code",
      "source": [
        "# Grid search using RF\n",
        "preds = list(encode_df)[1:-1]\n",
        "fit = []\n",
        "vac = []\n",
        "mse = []\n",
        "mae = []\n",
        "rmse = []\n",
        "group = []\n",
        "depth = []\n",
        "ests = []\n",
        "l_rate = []\n",
        "\n",
        "for i in range(0, 10):\n",
        "  rand_state = int(round(random.random()*10000, 0))\n",
        "  for n_est in [10, 50, 100, 250]:\n",
        "    for max_depth in [10, 50, 100]:\n",
        "      for rate in [0.001, 0.1, 1]\n",
        "        for p in encode_df['pid'].unique():\n",
        "          # Isolate participant data\n",
        "          temp_df = encode_df[encode_df['pid']==p].dropna()\n",
        "          predictors = temp_df[preds].astype(float)\n",
        "          observed_data = temp_df['indiff_point']\n",
        "          temp_df = temp_df.reset_index(drop=True)\n",
        "          # Fir RF regressor\n",
        "          regr = GBR(n_estimators=n_est, max_depth=max_depth, learning_rate=rate)\n",
        "          regr.fit(predictors, observed_data)\n",
        "          predictions = regr.predict(predictors)\n",
        "          # Save loss metrics for this fit\n",
        "          fit.append('GB')\n",
        "          vac.append(regr.score(predictors, observed_data))\n",
        "          mse.append(metrics.mean_squared_error(observed_data, predictions))\n",
        "          rmse.append(np.sqrt(metrics.mean_squared_error(observed_data, predictions)))\n",
        "          mae.append(metrics.mean_absolute_error(observed_data, predictions))\n",
        "          if temp_df['Group_Cocaine'][0]==1:\n",
        "            group.append('cocaine')\n",
        "          else:\n",
        "            group.append('control')\n",
        "          depth.append(max_depth)\n",
        "          ests.append(n_est)\n",
        "          l_rate.append(rate)\n",
        "          clear_output()\n",
        "          print(f'Fitting model:\\nIter: {i+1} of 10\\nn_est: {n_est}\\ndepth: {max_depth}\\nPID: {p}')\n",
        "\n",
        "fit_df = pd.DataFrame({'fit':fit, 'vac':vac, 'mse':mse, 'rmse':rmse, 'mae':mae, \n",
        "                       'depth':depth, 'ests':ests, 'lrate':l_rate, 'group':group})\n",
        "fit_df.to_csv(f'../Data/03_hyperparameter_tuning/param_tuning_GB.csv')"
      ],
      "metadata": {
        "id": "QD5q_chnx_ef"
      },
      "execution_count": null,
      "outputs": []
    },
    {
      "cell_type": "code",
      "source": [
        ""
      ],
      "metadata": {
        "id": "SS76JDBpK8QC"
      },
      "execution_count": null,
      "outputs": []
    },
    {
      "cell_type": "code",
      "source": [
        ""
      ],
      "metadata": {
        "id": "oKxSaDIetgNq"
      },
      "execution_count": null,
      "outputs": []
    },
    {
      "cell_type": "code",
      "source": [
        ""
      ],
      "metadata": {
        "id": "xufUG9w34Ptp"
      },
      "execution_count": null,
      "outputs": []
    },
    {
      "cell_type": "code",
      "source": [
        ""
      ],
      "metadata": {
        "id": "h4au8hrYx_xB"
      },
      "execution_count": null,
      "outputs": []
    },
    {
      "cell_type": "code",
      "source": [
        ""
      ],
      "metadata": {
        "id": "6eg7-6epx_gz"
      },
      "execution_count": null,
      "outputs": []
    },
    {
      "cell_type": "code",
      "source": [
        ""
      ],
      "metadata": {
        "id": "voAsZMSyx_jt"
      },
      "execution_count": null,
      "outputs": []
    },
    {
      "cell_type": "code",
      "source": [
        ""
      ],
      "metadata": {
        "id": "7p2_fr0Gx_mM"
      },
      "execution_count": null,
      "outputs": []
    },
    {
      "cell_type": "code",
      "source": [
        ""
      ],
      "metadata": {
        "id": "mjiOjQ4Qx_ov"
      },
      "execution_count": null,
      "outputs": []
    },
    {
      "cell_type": "code",
      "source": [
        ""
      ],
      "metadata": {
        "id": "MSBEJ1Kqx_rk"
      },
      "execution_count": null,
      "outputs": []
    },
    {
      "cell_type": "code",
      "source": [
        ""
      ],
      "metadata": {
        "id": "XhAXG2fZx_un"
      },
      "execution_count": null,
      "outputs": []
    }
  ]
}